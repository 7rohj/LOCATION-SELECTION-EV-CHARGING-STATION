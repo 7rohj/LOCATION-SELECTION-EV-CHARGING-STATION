{
 "cells": [
  {
   "cell_type": "markdown",
   "id": "73ee6b1b",
   "metadata": {
    "toc": true
   },
   "source": [
    "<h1>Table of Contents<span class=\"tocSkip\"></span></h1>\n",
    "<div class=\"toc\"><ul class=\"toc-item\"><li><span><a href=\"#🎊-반복문-최종코드-🎊\" data-toc-modified-id=\"🎊-반복문-최종코드-🎊-1\"><span class=\"toc-item-num\">1&nbsp;&nbsp;</span>🎊 반복문 최종코드 🎊</a></span></li><li><span><a href=\"#전기차-충전소-사용데이터-전처리\" data-toc-modified-id=\"전기차-충전소-사용데이터-전처리-2\"><span class=\"toc-item-num\">2&nbsp;&nbsp;</span>전기차 충전소 사용데이터 전처리</a></span></li><li><span><a href=\"#날짜-가지고-놀기\" data-toc-modified-id=\"날짜-가지고-놀기-3\"><span class=\"toc-item-num\">3&nbsp;&nbsp;</span>날짜 가지고 놀기</a></span></li><li><span><a href=\"#참고-사이트\" data-toc-modified-id=\"참고-사이트-4\"><span class=\"toc-item-num\">4&nbsp;&nbsp;</span>참고 사이트</a></span></li></ul></div>"
   ]
  },
  {
   "cell_type": "markdown",
   "id": "9a3fa20c",
   "metadata": {},
   "source": [
    "## 🎊 반복문 최종코드 🎊"
   ]
  },
  {
   "cell_type": "markdown",
   "id": "c55af9a2",
   "metadata": {},
   "source": [
    "2시간 간격으로 크롤링하여 얻은 데이터, 15일 5시 44분 이후부터 진행"
   ]
  },
  {
   "cell_type": "code",
   "execution_count": 13,
   "id": "4cd1e9e7",
   "metadata": {
    "scrolled": true
   },
   "outputs": [
    {
     "data": {
      "text/html": [
       "<style>.container {width:90% !important;}</style>"
      ],
      "text/plain": [
       "<IPython.core.display.HTML object>"
      ]
     },
     "metadata": {},
     "output_type": "display_data"
    },
    {
     "name": "stderr",
     "output_type": "stream",
     "text": [
      "  2%|█▎                                                                                 | 1/61 [00:00<00:20,  2.99it/s]"
     ]
    },
    {
     "name": "stdout",
     "output_type": "stream",
     "text": [
      "####  0  완료 ####\n"
     ]
    },
    {
     "name": "stderr",
     "output_type": "stream",
     "text": [
      "\r",
      "  3%|██▋                                                                                | 2/61 [00:00<00:19,  3.10it/s]"
     ]
    },
    {
     "name": "stdout",
     "output_type": "stream",
     "text": [
      "####  1  완료 ####\n"
     ]
    },
    {
     "name": "stderr",
     "output_type": "stream",
     "text": [
      "\r",
      "  5%|████                                                                               | 3/61 [00:00<00:19,  3.00it/s]"
     ]
    },
    {
     "name": "stdout",
     "output_type": "stream",
     "text": [
      "####  2  완료 ####\n"
     ]
    },
    {
     "name": "stderr",
     "output_type": "stream",
     "text": [
      "\r",
      "  7%|█████▍                                                                             | 4/61 [00:01<00:18,  3.09it/s]"
     ]
    },
    {
     "name": "stdout",
     "output_type": "stream",
     "text": [
      "####  3  완료 ####\n"
     ]
    },
    {
     "name": "stderr",
     "output_type": "stream",
     "text": [
      "\r",
      "  8%|██████▊                                                                            | 5/61 [00:01<00:18,  3.04it/s]"
     ]
    },
    {
     "name": "stdout",
     "output_type": "stream",
     "text": [
      "####  4  완료 ####\n"
     ]
    },
    {
     "name": "stderr",
     "output_type": "stream",
     "text": [
      "\r",
      " 10%|████████▏                                                                          | 6/61 [00:01<00:17,  3.09it/s]"
     ]
    },
    {
     "name": "stdout",
     "output_type": "stream",
     "text": [
      "####  5  완료 ####\n"
     ]
    },
    {
     "name": "stderr",
     "output_type": "stream",
     "text": [
      "\r",
      " 11%|█████████▌                                                                         | 7/61 [00:02<00:17,  3.05it/s]"
     ]
    },
    {
     "name": "stdout",
     "output_type": "stream",
     "text": [
      "####  6  완료 ####\n"
     ]
    },
    {
     "name": "stderr",
     "output_type": "stream",
     "text": [
      "\r",
      " 13%|██████████▉                                                                        | 8/61 [00:02<00:17,  3.10it/s]"
     ]
    },
    {
     "name": "stdout",
     "output_type": "stream",
     "text": [
      "####  7  완료 ####\n"
     ]
    },
    {
     "name": "stderr",
     "output_type": "stream",
     "text": [
      "\r",
      " 15%|████████████▏                                                                      | 9/61 [00:02<00:17,  3.05it/s]"
     ]
    },
    {
     "name": "stdout",
     "output_type": "stream",
     "text": [
      "####  8  완료 ####\n"
     ]
    },
    {
     "name": "stderr",
     "output_type": "stream",
     "text": [
      "\r",
      " 16%|█████████████▍                                                                    | 10/61 [00:03<00:16,  3.08it/s]"
     ]
    },
    {
     "name": "stdout",
     "output_type": "stream",
     "text": [
      "####  9  완료 ####\n"
     ]
    },
    {
     "name": "stderr",
     "output_type": "stream",
     "text": [
      "\r",
      " 18%|██████████████▊                                                                   | 11/61 [00:03<00:16,  3.03it/s]"
     ]
    },
    {
     "name": "stdout",
     "output_type": "stream",
     "text": [
      "####  10  완료 ####\n"
     ]
    },
    {
     "name": "stderr",
     "output_type": "stream",
     "text": [
      "\r",
      " 20%|████████████████▏                                                                 | 12/61 [00:03<00:15,  3.08it/s]"
     ]
    },
    {
     "name": "stdout",
     "output_type": "stream",
     "text": [
      "####  11  완료 ####\n"
     ]
    },
    {
     "name": "stderr",
     "output_type": "stream",
     "text": [
      "\r",
      " 21%|█████████████████▍                                                                | 13/61 [00:04<00:15,  3.02it/s]"
     ]
    },
    {
     "name": "stdout",
     "output_type": "stream",
     "text": [
      "####  12  완료 ####\n"
     ]
    },
    {
     "name": "stderr",
     "output_type": "stream",
     "text": [
      "\r",
      " 23%|██████████████████▊                                                               | 14/61 [00:04<00:15,  3.07it/s]"
     ]
    },
    {
     "name": "stdout",
     "output_type": "stream",
     "text": [
      "####  13  완료 ####\n"
     ]
    },
    {
     "name": "stderr",
     "output_type": "stream",
     "text": [
      "\r",
      " 25%|████████████████████▏                                                             | 15/61 [00:04<00:15,  3.02it/s]"
     ]
    },
    {
     "name": "stdout",
     "output_type": "stream",
     "text": [
      "####  14  완료 ####\n"
     ]
    },
    {
     "name": "stderr",
     "output_type": "stream",
     "text": [
      "\r",
      " 26%|█████████████████████▌                                                            | 16/61 [00:05<00:14,  3.07it/s]"
     ]
    },
    {
     "name": "stdout",
     "output_type": "stream",
     "text": [
      "####  15  완료 ####\n"
     ]
    },
    {
     "name": "stderr",
     "output_type": "stream",
     "text": [
      "\r",
      " 28%|██████████████████████▊                                                           | 17/61 [00:05<00:14,  3.00it/s]"
     ]
    },
    {
     "name": "stdout",
     "output_type": "stream",
     "text": [
      "####  16  완료 ####\n"
     ]
    },
    {
     "name": "stderr",
     "output_type": "stream",
     "text": [
      "\r",
      " 30%|████████████████████████▏                                                         | 18/61 [00:05<00:14,  3.06it/s]"
     ]
    },
    {
     "name": "stdout",
     "output_type": "stream",
     "text": [
      "####  17  완료 ####\n"
     ]
    },
    {
     "name": "stderr",
     "output_type": "stream",
     "text": [
      "\r",
      " 31%|█████████████████████████▌                                                        | 19/61 [00:06<00:14,  2.97it/s]"
     ]
    },
    {
     "name": "stdout",
     "output_type": "stream",
     "text": [
      "####  18  완료 ####\n"
     ]
    },
    {
     "name": "stderr",
     "output_type": "stream",
     "text": [
      "\r",
      " 33%|██████████████████████████▉                                                       | 20/61 [00:06<00:13,  3.03it/s]"
     ]
    },
    {
     "name": "stdout",
     "output_type": "stream",
     "text": [
      "####  19  완료 ####\n"
     ]
    },
    {
     "name": "stderr",
     "output_type": "stream",
     "text": [
      "\r",
      " 34%|████████████████████████████▏                                                     | 21/61 [00:06<00:13,  2.99it/s]"
     ]
    },
    {
     "name": "stdout",
     "output_type": "stream",
     "text": [
      "####  20  완료 ####\n"
     ]
    },
    {
     "name": "stderr",
     "output_type": "stream",
     "text": [
      "\r",
      " 36%|█████████████████████████████▌                                                    | 22/61 [00:07<00:12,  3.04it/s]"
     ]
    },
    {
     "name": "stdout",
     "output_type": "stream",
     "text": [
      "####  21  완료 ####\n"
     ]
    },
    {
     "name": "stderr",
     "output_type": "stream",
     "text": [
      "\r",
      " 38%|██████████████████████████████▉                                                   | 23/61 [00:07<00:12,  3.00it/s]"
     ]
    },
    {
     "name": "stdout",
     "output_type": "stream",
     "text": [
      "####  22  완료 ####\n"
     ]
    },
    {
     "name": "stderr",
     "output_type": "stream",
     "text": [
      "\r",
      " 39%|████████████████████████████████▎                                                 | 24/61 [00:07<00:12,  3.06it/s]"
     ]
    },
    {
     "name": "stdout",
     "output_type": "stream",
     "text": [
      "####  23  완료 ####\n"
     ]
    },
    {
     "name": "stderr",
     "output_type": "stream",
     "text": [
      "\r",
      " 41%|█████████████████████████████████▌                                                | 25/61 [00:08<00:11,  3.01it/s]"
     ]
    },
    {
     "name": "stdout",
     "output_type": "stream",
     "text": [
      "####  24  완료 ####\n"
     ]
    },
    {
     "name": "stderr",
     "output_type": "stream",
     "text": [
      "\r",
      " 43%|██████████████████████████████████▉                                               | 26/61 [00:08<00:11,  3.06it/s]"
     ]
    },
    {
     "name": "stdout",
     "output_type": "stream",
     "text": [
      "####  25  완료 ####\n"
     ]
    },
    {
     "name": "stderr",
     "output_type": "stream",
     "text": [
      "\r",
      " 44%|████████████████████████████████████▎                                             | 27/61 [00:08<00:11,  3.03it/s]"
     ]
    },
    {
     "name": "stdout",
     "output_type": "stream",
     "text": [
      "####  26  완료 ####\n"
     ]
    },
    {
     "name": "stderr",
     "output_type": "stream",
     "text": [
      "\r",
      " 46%|█████████████████████████████████████▋                                            | 28/61 [00:09<00:10,  3.08it/s]"
     ]
    },
    {
     "name": "stdout",
     "output_type": "stream",
     "text": [
      "####  27  완료 ####\n"
     ]
    },
    {
     "name": "stderr",
     "output_type": "stream",
     "text": [
      "\r",
      " 48%|██████████████████████████████████████▉                                           | 29/61 [00:09<00:10,  3.02it/s]"
     ]
    },
    {
     "name": "stdout",
     "output_type": "stream",
     "text": [
      "####  28  완료 ####\n"
     ]
    },
    {
     "name": "stderr",
     "output_type": "stream",
     "text": [
      "\r",
      " 49%|████████████████████████████████████████▎                                         | 30/61 [00:09<00:10,  3.08it/s]"
     ]
    },
    {
     "name": "stdout",
     "output_type": "stream",
     "text": [
      "####  29  완료 ####\n"
     ]
    },
    {
     "name": "stderr",
     "output_type": "stream",
     "text": [
      "\r",
      " 51%|█████████████████████████████████████████▋                                        | 31/61 [00:10<00:09,  3.03it/s]"
     ]
    },
    {
     "name": "stdout",
     "output_type": "stream",
     "text": [
      "####  30  완료 ####\n"
     ]
    },
    {
     "name": "stderr",
     "output_type": "stream",
     "text": [
      "\r",
      " 52%|███████████████████████████████████████████                                       | 32/61 [00:10<00:09,  3.08it/s]"
     ]
    },
    {
     "name": "stdout",
     "output_type": "stream",
     "text": [
      "####  31  완료 ####\n"
     ]
    },
    {
     "name": "stderr",
     "output_type": "stream",
     "text": [
      "\r",
      " 54%|████████████████████████████████████████████▎                                     | 33/61 [00:10<00:09,  3.03it/s]"
     ]
    },
    {
     "name": "stdout",
     "output_type": "stream",
     "text": [
      "####  32  완료 ####\n"
     ]
    },
    {
     "name": "stderr",
     "output_type": "stream",
     "text": [
      "\r",
      " 56%|█████████████████████████████████████████████▋                                    | 34/61 [00:11<00:08,  3.09it/s]"
     ]
    },
    {
     "name": "stdout",
     "output_type": "stream",
     "text": [
      "####  33  완료 ####\n"
     ]
    },
    {
     "name": "stderr",
     "output_type": "stream",
     "text": [
      "\r",
      " 57%|███████████████████████████████████████████████                                   | 35/61 [00:11<00:08,  3.06it/s]"
     ]
    },
    {
     "name": "stdout",
     "output_type": "stream",
     "text": [
      "####  34  완료 ####\n"
     ]
    },
    {
     "name": "stderr",
     "output_type": "stream",
     "text": [
      "\r",
      " 59%|████████████████████████████████████████████████▍                                 | 36/61 [00:11<00:08,  3.11it/s]"
     ]
    },
    {
     "name": "stdout",
     "output_type": "stream",
     "text": [
      "####  35  완료 ####\n"
     ]
    },
    {
     "name": "stderr",
     "output_type": "stream",
     "text": [
      "\r",
      " 61%|█████████████████████████████████████████████████▋                                | 37/61 [00:12<00:07,  3.05it/s]"
     ]
    },
    {
     "name": "stdout",
     "output_type": "stream",
     "text": [
      "####  36  완료 ####\n"
     ]
    },
    {
     "name": "stderr",
     "output_type": "stream",
     "text": [
      "\r",
      " 62%|███████████████████████████████████████████████████                               | 38/61 [00:12<00:07,  3.10it/s]"
     ]
    },
    {
     "name": "stdout",
     "output_type": "stream",
     "text": [
      "####  37  완료 ####\n"
     ]
    },
    {
     "name": "stderr",
     "output_type": "stream",
     "text": [
      "\r",
      " 64%|████████████████████████████████████████████████████▍                             | 39/61 [00:12<00:07,  3.04it/s]"
     ]
    },
    {
     "name": "stdout",
     "output_type": "stream",
     "text": [
      "####  38  완료 ####\n"
     ]
    },
    {
     "name": "stderr",
     "output_type": "stream",
     "text": [
      "\r",
      " 66%|█████████████████████████████████████████████████████▊                            | 40/61 [00:13<00:06,  3.08it/s]"
     ]
    },
    {
     "name": "stdout",
     "output_type": "stream",
     "text": [
      "####  39  완료 ####\n"
     ]
    },
    {
     "name": "stderr",
     "output_type": "stream",
     "text": [
      "\r",
      " 67%|███████████████████████████████████████████████████████                           | 41/61 [00:13<00:06,  3.04it/s]"
     ]
    },
    {
     "name": "stdout",
     "output_type": "stream",
     "text": [
      "####  40  완료 ####\n"
     ]
    },
    {
     "name": "stderr",
     "output_type": "stream",
     "text": [
      "\r",
      " 69%|████████████████████████████████████████████████████████▍                         | 42/61 [00:13<00:06,  3.07it/s]"
     ]
    },
    {
     "name": "stdout",
     "output_type": "stream",
     "text": [
      "####  41  완료 ####\n"
     ]
    },
    {
     "name": "stderr",
     "output_type": "stream",
     "text": [
      "\r",
      " 70%|█████████████████████████████████████████████████████████▊                        | 43/61 [00:14<00:05,  3.01it/s]"
     ]
    },
    {
     "name": "stdout",
     "output_type": "stream",
     "text": [
      "####  42  완료 ####\n"
     ]
    },
    {
     "name": "stderr",
     "output_type": "stream",
     "text": [
      "\r",
      " 72%|███████████████████████████████████████████████████████████▏                      | 44/61 [00:14<00:05,  3.05it/s]"
     ]
    },
    {
     "name": "stdout",
     "output_type": "stream",
     "text": [
      "####  43  완료 ####\n"
     ]
    },
    {
     "name": "stderr",
     "output_type": "stream",
     "text": [
      " 75%|█████████████████████████████████████████████████████████████▊                    | 46/61 [00:14<00:04,  3.53it/s]"
     ]
    },
    {
     "name": "stdout",
     "output_type": "stream",
     "text": [
      "####  44  완료 ####\n"
     ]
    },
    {
     "name": "stderr",
     "output_type": "stream",
     "text": [
      " 79%|████████████████████████████████████████████████████████████████▌                 | 48/61 [00:15<00:03,  3.64it/s]"
     ]
    },
    {
     "name": "stdout",
     "output_type": "stream",
     "text": [
      "####  47  완료 ####\n"
     ]
    },
    {
     "name": "stderr",
     "output_type": "stream",
     "text": [
      " 82%|███████████████████████████████████████████████████████████████████▏              | 50/61 [00:15<00:02,  3.89it/s]"
     ]
    },
    {
     "name": "stdout",
     "output_type": "stream",
     "text": [
      "####  48  완료 ####\n"
     ]
    },
    {
     "name": "stderr",
     "output_type": "stream",
     "text": [
      " 85%|█████████████████████████████████████████████████████████████████████▉            | 52/61 [00:16<00:02,  3.94it/s]"
     ]
    },
    {
     "name": "stdout",
     "output_type": "stream",
     "text": [
      "####  51  완료 ####\n"
     ]
    },
    {
     "name": "stderr",
     "output_type": "stream",
     "text": [
      "\r",
      " 87%|███████████████████████████████████████████████████████████████████████▏          | 53/61 [00:16<00:02,  3.58it/s]"
     ]
    },
    {
     "name": "stdout",
     "output_type": "stream",
     "text": [
      "####  52  완료 ####\n"
     ]
    },
    {
     "name": "stderr",
     "output_type": "stream",
     "text": [
      "\r",
      " 89%|████████████████████████████████████████████████████████████████████████▌         | 54/61 [00:17<00:02,  3.46it/s]"
     ]
    },
    {
     "name": "stdout",
     "output_type": "stream",
     "text": [
      "####  53  완료 ####\n"
     ]
    },
    {
     "name": "stderr",
     "output_type": "stream",
     "text": [
      "\r",
      " 90%|█████████████████████████████████████████████████████████████████████████▉        | 55/61 [00:17<00:01,  3.28it/s]"
     ]
    },
    {
     "name": "stdout",
     "output_type": "stream",
     "text": [
      "####  54  완료 ####\n"
     ]
    },
    {
     "name": "stderr",
     "output_type": "stream",
     "text": [
      "\r",
      " 92%|███████████████████████████████████████████████████████████████████████████▎      | 56/61 [00:17<00:01,  3.26it/s]"
     ]
    },
    {
     "name": "stdout",
     "output_type": "stream",
     "text": [
      "####  55  완료 ####\n"
     ]
    },
    {
     "name": "stderr",
     "output_type": "stream",
     "text": [
      " 95%|█████████████████████████████████████████████████████████████████████████████▉    | 58/61 [00:18<00:00,  3.70it/s]"
     ]
    },
    {
     "name": "stdout",
     "output_type": "stream",
     "text": [
      "####  56  완료 ####\n"
     ]
    },
    {
     "name": "stderr",
     "output_type": "stream",
     "text": [
      "100%|██████████████████████████████████████████████████████████████████████████████████| 61/61 [00:18<00:00,  3.23it/s]"
     ]
    },
    {
     "name": "stdout",
     "output_type": "stream",
     "text": [
      "####  59  완료 ####\n"
     ]
    },
    {
     "name": "stderr",
     "output_type": "stream",
     "text": [
      "\n"
     ]
    }
   ],
   "source": [
    "import pandas as pd\n",
    "import datetime\n",
    "from tqdm import tqdm\n",
    "\n",
    "from IPython.core.display import display, HTML\n",
    "display(HTML(\"<style>.container {width:90% !important;}</style>\"))\n",
    "import os\n",
    "\n",
    "path=\"/Users/User/전기차충전소/전기차충전소2\"\n",
    "file_list = os.listdir(path)\n",
    "\n",
    "file_list_xlsx = [file for file in file_list if file.endswith('.xlsx')]\n",
    "#file_list_xlsx\n",
    "\n",
    "dfs = []\n",
    "\n",
    "for i in tqdm(range(len(file_list_xlsx))):\n",
    "    \n",
    "    try:\n",
    "        \n",
    "        df = pd.DataFrame(None)\n",
    "    \n",
    "        df1 = pd.read_excel(file_list_xlsx[i]) # 전\n",
    "        df2 = pd.read_excel(file_list_xlsx[i+1]) # 후\n",
    "\n",
    "        df1['마지막충전시작일시2'] = pd.to_datetime(df1['마지막충전시작일시'])\n",
    "        df2['마지막충전시작일시2'] = pd.to_datetime(df2['마지막충전시작일시'])\n",
    "        df1 = df1.sort_values(by=['마지막충전시작일시2'], ascending=[False])\n",
    "        df2 = df2.sort_values(by=['마지막충전시작일시2'], ascending=[False])\n",
    "\n",
    "        # df1\n",
    "        DATE = df1.iloc[0]['마지막충전시작일시2'].date() #날짜만 추출\n",
    "        nextday = DATE + datetime.timedelta(days=1) # 다음날\n",
    "        one = '2022-09-12' # 12일 00시 부터\n",
    "        two = nextday.strftime(\"%Y-%m-%d\") # 해당 파일날짜 +1 까지\n",
    "\n",
    "        mask = (df1['마지막충전시작일시2']>=one)&(df1['마지막충전시작일시2']<=two)\n",
    "        filtered1 = df1.loc[mask]\n",
    "\n",
    "        # df2\n",
    "        DATE = df2.iloc[0]['마지막충전시작일시2'].date()\n",
    "        nextday = DATE + datetime.timedelta(days=1)\n",
    "        one = '2022-09-12'\n",
    "        two = nextday.strftime(\"%Y-%m-%d\")\n",
    "\n",
    "        mask = (df2['마지막충전시작일시2']>=one)&(df2['마지막충전시작일시2']<=two)\n",
    "        filtered2 = df2.loc[mask]\n",
    "\n",
    "        df3 = pd.concat([filtered1,filtered2]) # 1408\n",
    "        df = df3.drop_duplicates(['마지막충전시작일시'], keep='first') #마지막만 남기기\n",
    "        \n",
    "        dfs.append(df)\n",
    "        \n",
    "        #df.to_excel('전처리완료_최종{}'.format(i)+'.xlsx')\n",
    "\n",
    "        print('#### ', i , ' 완료 ####')\n",
    "        \n",
    "    except:\n",
    "        pass\n",
    "\n",
    "    \n",
    "#total_df.to_excel('전처리완료_최종.xlsx')"
   ]
  },
  {
   "cell_type": "code",
   "execution_count": 37,
   "id": "83412600",
   "metadata": {},
   "outputs": [
    {
     "data": {
      "text/html": [
       "<div>\n",
       "<style scoped>\n",
       "    .dataframe tbody tr th:only-of-type {\n",
       "        vertical-align: middle;\n",
       "    }\n",
       "\n",
       "    .dataframe tbody tr th {\n",
       "        vertical-align: top;\n",
       "    }\n",
       "\n",
       "    .dataframe thead th {\n",
       "        text-align: right;\n",
       "    }\n",
       "</style>\n",
       "<table border=\"1\" class=\"dataframe\">\n",
       "  <thead>\n",
       "    <tr style=\"text-align: right;\">\n",
       "      <th></th>\n",
       "      <th>Unnamed: 0</th>\n",
       "      <th>충전소명</th>\n",
       "      <th>충전기ID</th>\n",
       "      <th>주소</th>\n",
       "      <th>마지막충전시작일시</th>\n",
       "      <th>마지막충전종료일시</th>\n",
       "      <th>상태갱신일시</th>\n",
       "      <th>마지막충전시작일시2</th>\n",
       "    </tr>\n",
       "  </thead>\n",
       "  <tbody>\n",
       "    <tr>\n",
       "      <th>1143</th>\n",
       "      <td>1143</td>\n",
       "      <td>죽전휴게소(서울방향)</td>\n",
       "      <td>1</td>\n",
       "      <td>경기도 용인시 수지구 경부고속도로 400 (죽전동)</td>\n",
       "      <td>2022-09-12 17:46:37</td>\n",
       "      <td>2022-09-12 18:01:42</td>\n",
       "      <td>2022-09-12 18:01:43</td>\n",
       "      <td>2022-09-12 17:46:37</td>\n",
       "    </tr>\n",
       "    <tr>\n",
       "      <th>620</th>\n",
       "      <td>620</td>\n",
       "      <td>롯데마트 신갈점</td>\n",
       "      <td>1</td>\n",
       "      <td>경기도 용인시 기흥구 중부대로 375, 지하2층 10</td>\n",
       "      <td>2022-09-12 17:34:04</td>\n",
       "      <td>2022-09-12 18:02:03</td>\n",
       "      <td>2022-09-12 18:02:06</td>\n",
       "      <td>2022-09-12 17:34:04</td>\n",
       "    </tr>\n",
       "    <tr>\n",
       "      <th>1091</th>\n",
       "      <td>1091</td>\n",
       "      <td>운학동예비군훈련장</td>\n",
       "      <td>22</td>\n",
       "      <td>경기도 용인시 처인구 묵동로 73-1</td>\n",
       "      <td>2022-09-12 17:26:01</td>\n",
       "      <td>2022-09-12 17:46:55</td>\n",
       "      <td>2022-09-12 17:46:55</td>\n",
       "      <td>2022-09-12 17:26:01</td>\n",
       "    </tr>\n",
       "    <tr>\n",
       "      <th>1035</th>\n",
       "      <td>1035</td>\n",
       "      <td>용인시 백암면사무소</td>\n",
       "      <td>1</td>\n",
       "      <td>경기도 용인시 처인구 백암면 백암로 189</td>\n",
       "      <td>2022-09-12 17:20:52</td>\n",
       "      <td>2022-09-12 17:43:51</td>\n",
       "      <td>2022-09-12 17:51:24</td>\n",
       "      <td>2022-09-12 17:20:52</td>\n",
       "    </tr>\n",
       "    <tr>\n",
       "      <th>1141</th>\n",
       "      <td>1141</td>\n",
       "      <td>죽전휴게소 (서울방향)</td>\n",
       "      <td>81</td>\n",
       "      <td>경기도 용인시 수지구 경부고속도로400</td>\n",
       "      <td>2022-09-12 17:07:44</td>\n",
       "      <td>2022-09-12 17:31:08</td>\n",
       "      <td>2022-09-12 17:45:37</td>\n",
       "      <td>2022-09-12 17:07:44</td>\n",
       "    </tr>\n",
       "    <tr>\n",
       "      <th>...</th>\n",
       "      <td>...</td>\n",
       "      <td>...</td>\n",
       "      <td>...</td>\n",
       "      <td>...</td>\n",
       "      <td>...</td>\n",
       "      <td>...</td>\n",
       "      <td>...</td>\n",
       "      <td>...</td>\n",
       "    </tr>\n",
       "    <tr>\n",
       "      <th>649</th>\n",
       "      <td>649</td>\n",
       "      <td>백현마을모아미래도아파트A</td>\n",
       "      <td>3</td>\n",
       "      <td>경기도 용인시 기흥구 동백8로 90 (동백동, 백현마을모아미래도1단지아파트)</td>\n",
       "      <td>2022-09-17 18:48:23</td>\n",
       "      <td>2022-09-18 05:13:00</td>\n",
       "      <td>2022-09-18 05:13:08</td>\n",
       "      <td>2022-09-17 18:48:23</td>\n",
       "    </tr>\n",
       "    <tr>\n",
       "      <th>772</th>\n",
       "      <td>772</td>\n",
       "      <td>수지태영데시앙아파트</td>\n",
       "      <td>3</td>\n",
       "      <td>경기도 용인시 수지구 수지로 166</td>\n",
       "      <td>2022-09-17 18:35:32</td>\n",
       "      <td>2022-09-17 23:51:22</td>\n",
       "      <td>2022-09-18 04:40:42</td>\n",
       "      <td>2022-09-17 18:35:32</td>\n",
       "    </tr>\n",
       "    <tr>\n",
       "      <th>887</th>\n",
       "      <td>887</td>\n",
       "      <td>용인 만현마을 롯데캐슬3</td>\n",
       "      <td>4</td>\n",
       "      <td>경기도 용인시 수지구 만현로 25 (상현동, 만현마을롯데캐슬아파트)</td>\n",
       "      <td>2022-09-17 18:14:13</td>\n",
       "      <td>2022-09-18 03:18:33</td>\n",
       "      <td>2022-09-18 03:38:13</td>\n",
       "      <td>2022-09-17 18:14:13</td>\n",
       "    </tr>\n",
       "    <tr>\n",
       "      <th>815</th>\n",
       "      <td>815</td>\n",
       "      <td>신흥덕롯데캐슬레이시티_교체</td>\n",
       "      <td>1</td>\n",
       "      <td>경기도 용인시 기흥구 신정로 25</td>\n",
       "      <td>2022-09-17 13:56:17</td>\n",
       "      <td>2022-09-18 00:23:31</td>\n",
       "      <td>2022-09-18 03:46:13</td>\n",
       "      <td>2022-09-17 13:56:17</td>\n",
       "    </tr>\n",
       "    <tr>\n",
       "      <th>1168</th>\n",
       "      <td>1168</td>\n",
       "      <td>지산리조트(퍼블릭하우스)</td>\n",
       "      <td>1</td>\n",
       "      <td>경기도 용인시 처인구 원삼면 죽양대로2000번길 60</td>\n",
       "      <td>2022-09-17 12:09:06</td>\n",
       "      <td>2022-09-17 05:09:10</td>\n",
       "      <td>2022-09-18 05:30:21</td>\n",
       "      <td>2022-09-17 12:09:06</td>\n",
       "    </tr>\n",
       "  </tbody>\n",
       "</table>\n",
       "<p>37192 rows × 8 columns</p>\n",
       "</div>"
      ],
      "text/plain": [
       "      Unnamed: 0            충전소명  충전기ID  \\\n",
       "1143        1143     죽전휴게소(서울방향)      1   \n",
       "620          620        롯데마트 신갈점      1   \n",
       "1091        1091       운학동예비군훈련장     22   \n",
       "1035        1035      용인시 백암면사무소      1   \n",
       "1141        1141    죽전휴게소 (서울방향)     81   \n",
       "...          ...             ...    ...   \n",
       "649          649   백현마을모아미래도아파트A      3   \n",
       "772          772      수지태영데시앙아파트      3   \n",
       "887          887   용인 만현마을 롯데캐슬3      4   \n",
       "815          815  신흥덕롯데캐슬레이시티_교체      1   \n",
       "1168        1168   지산리조트(퍼블릭하우스)      1   \n",
       "\n",
       "                                              주소            마지막충전시작일시  \\\n",
       "1143                경기도 용인시 수지구 경부고속도로 400 (죽전동)  2022-09-12 17:46:37   \n",
       "620                경기도 용인시 기흥구 중부대로 375, 지하2층 10  2022-09-12 17:34:04   \n",
       "1091                        경기도 용인시 처인구 묵동로 73-1  2022-09-12 17:26:01   \n",
       "1035                     경기도 용인시 처인구 백암면 백암로 189  2022-09-12 17:20:52   \n",
       "1141                       경기도 용인시 수지구 경부고속도로400  2022-09-12 17:07:44   \n",
       "...                                          ...                  ...   \n",
       "649   경기도 용인시 기흥구 동백8로 90 (동백동, 백현마을모아미래도1단지아파트)  2022-09-17 18:48:23   \n",
       "772                          경기도 용인시 수지구 수지로 166  2022-09-17 18:35:32   \n",
       "887        경기도 용인시 수지구 만현로 25 (상현동, 만현마을롯데캐슬아파트)  2022-09-17 18:14:13   \n",
       "815                           경기도 용인시 기흥구 신정로 25  2022-09-17 13:56:17   \n",
       "1168               경기도 용인시 처인구 원삼면 죽양대로2000번길 60  2022-09-17 12:09:06   \n",
       "\n",
       "                마지막충전종료일시               상태갱신일시          마지막충전시작일시2  \n",
       "1143  2022-09-12 18:01:42  2022-09-12 18:01:43 2022-09-12 17:46:37  \n",
       "620   2022-09-12 18:02:03  2022-09-12 18:02:06 2022-09-12 17:34:04  \n",
       "1091  2022-09-12 17:46:55  2022-09-12 17:46:55 2022-09-12 17:26:01  \n",
       "1035  2022-09-12 17:43:51  2022-09-12 17:51:24 2022-09-12 17:20:52  \n",
       "1141  2022-09-12 17:31:08  2022-09-12 17:45:37 2022-09-12 17:07:44  \n",
       "...                   ...                  ...                 ...  \n",
       "649   2022-09-18 05:13:00  2022-09-18 05:13:08 2022-09-17 18:48:23  \n",
       "772   2022-09-17 23:51:22  2022-09-18 04:40:42 2022-09-17 18:35:32  \n",
       "887   2022-09-18 03:18:33  2022-09-18 03:38:13 2022-09-17 18:14:13  \n",
       "815   2022-09-18 00:23:31  2022-09-18 03:46:13 2022-09-17 13:56:17  \n",
       "1168  2022-09-17 05:09:10  2022-09-18 05:30:21 2022-09-17 12:09:06  \n",
       "\n",
       "[37192 rows x 8 columns]"
      ]
     },
     "execution_count": 37,
     "metadata": {},
     "output_type": "execute_result"
    }
   ],
   "source": [
    "total_df = pd.concat([dfs[0],dfs[1],dfs[2],dfs[3],dfs[4],dfs[5],dfs[6],dfs[7],dfs[8],dfs[9],\n",
    "                     dfs[10],dfs[11],dfs[12],dfs[13],dfs[14],dfs[15],dfs[16],dfs[17],dfs[18],dfs[19],\n",
    "                     dfs[20],dfs[21],dfs[22],dfs[23],dfs[24],dfs[25],dfs[26],dfs[27],dfs[28],dfs[29],\n",
    "                     dfs[30],dfs[31],dfs[32],dfs[33],dfs[34],dfs[35],dfs[36],dfs[37],dfs[38],dfs[39],\n",
    "                     dfs[40],dfs[41],dfs[42],dfs[43],dfs[44],dfs[45],dfs[46],dfs[47],dfs[48],dfs[49],\n",
    "                     dfs[50],dfs[51],dfs[52],dfs[53]])\n",
    "total_df"
   ]
  },
  {
   "cell_type": "code",
   "execution_count": 38,
   "id": "ccc72aae",
   "metadata": {},
   "outputs": [],
   "source": [
    "total_df.to_excel('전기차충전소_사용내용.xlsx')"
   ]
  },
  {
   "cell_type": "markdown",
   "id": "8f6d3ee2",
   "metadata": {},
   "source": [
    "## 전기차 충전소 사용데이터 전처리"
   ]
  },
  {
   "cell_type": "code",
   "execution_count": null,
   "id": "b38d7afd",
   "metadata": {},
   "outputs": [],
   "source": [
    "## 엑셀을 이용해 수동으로 하다가 너무 많은 것 같아 코딩의 힘을 빌리기로 함. ㅎㅎ"
   ]
  },
  {
   "cell_type": "code",
   "execution_count": 131,
   "id": "f900f3a5",
   "metadata": {},
   "outputs": [],
   "source": [
    "import pandas as pd\n",
    "import datetime"
   ]
  },
  {
   "cell_type": "code",
   "execution_count": 87,
   "id": "b9b4b539",
   "metadata": {},
   "outputs": [],
   "source": [
    "df1 = pd.read_excel('충전일시_2022.09.15 05시 44분.xlsx') # 전\n",
    "df2 = pd.read_excel('충전일시_2022.09.15 07시 51분.xlsx') # 후"
   ]
  },
  {
   "cell_type": "code",
   "execution_count": 62,
   "id": "366da303",
   "metadata": {},
   "outputs": [
    {
     "data": {
      "text/html": [
       "<div>\n",
       "<style scoped>\n",
       "    .dataframe tbody tr th:only-of-type {\n",
       "        vertical-align: middle;\n",
       "    }\n",
       "\n",
       "    .dataframe tbody tr th {\n",
       "        vertical-align: top;\n",
       "    }\n",
       "\n",
       "    .dataframe thead th {\n",
       "        text-align: right;\n",
       "    }\n",
       "</style>\n",
       "<table border=\"1\" class=\"dataframe\">\n",
       "  <thead>\n",
       "    <tr style=\"text-align: right;\">\n",
       "      <th></th>\n",
       "      <th>Unnamed: 0</th>\n",
       "      <th>충전소명</th>\n",
       "      <th>충전기ID</th>\n",
       "      <th>주소</th>\n",
       "      <th>마지막충전시작일시</th>\n",
       "      <th>마지막충전종료일시</th>\n",
       "      <th>상태갱신일시</th>\n",
       "    </tr>\n",
       "  </thead>\n",
       "  <tbody>\n",
       "    <tr>\n",
       "      <th>0</th>\n",
       "      <td>0</td>\n",
       "      <td>EV충전소 SK톨게이트주유소 (ev Most)</td>\n",
       "      <td>1</td>\n",
       "      <td>경기도 용인시 처인구 백옥대로 1410</td>\n",
       "      <td>NaN</td>\n",
       "      <td>NaN</td>\n",
       "      <td>2022-09-15 02:07:55</td>\n",
       "    </tr>\n",
       "    <tr>\n",
       "      <th>1</th>\n",
       "      <td>1</td>\n",
       "      <td>LG빌리지6차아파트601동</td>\n",
       "      <td>1</td>\n",
       "      <td>경기도 용인시 수지구 성복2로 158 (성복동, 성동마을 엘지빌리지 6차)</td>\n",
       "      <td>2022-09-12 16:49:53</td>\n",
       "      <td>2022-09-12 21:05:26</td>\n",
       "      <td>2022-09-12 21:26:23</td>\n",
       "    </tr>\n",
       "    <tr>\n",
       "      <th>2</th>\n",
       "      <td>2</td>\n",
       "      <td>LG빌리지6차아파트601동</td>\n",
       "      <td>2</td>\n",
       "      <td>경기도 용인시 수지구 성복2로 158 (성복동, 성동마을 엘지빌리지 6차)</td>\n",
       "      <td>2022-09-13 23:57:33</td>\n",
       "      <td>2022-09-14 06:23:17</td>\n",
       "      <td>2022-09-14 06:43:13</td>\n",
       "    </tr>\n",
       "  </tbody>\n",
       "</table>\n",
       "</div>"
      ],
      "text/plain": [
       "   Unnamed: 0                       충전소명  충전기ID  \\\n",
       "0           0  EV충전소 SK톨게이트주유소 (ev Most)      1   \n",
       "1           1             LG빌리지6차아파트601동      1   \n",
       "2           2             LG빌리지6차아파트601동      2   \n",
       "\n",
       "                                          주소            마지막충전시작일시  \\\n",
       "0                      경기도 용인시 처인구 백옥대로 1410                  NaN   \n",
       "1  경기도 용인시 수지구 성복2로 158 (성복동, 성동마을 엘지빌리지 6차)  2022-09-12 16:49:53   \n",
       "2  경기도 용인시 수지구 성복2로 158 (성복동, 성동마을 엘지빌리지 6차)  2022-09-13 23:57:33   \n",
       "\n",
       "             마지막충전종료일시               상태갱신일시  \n",
       "0                  NaN  2022-09-15 02:07:55  \n",
       "1  2022-09-12 21:05:26  2022-09-12 21:26:23  \n",
       "2  2022-09-14 06:23:17  2022-09-14 06:43:13  "
      ]
     },
     "execution_count": 62,
     "metadata": {},
     "output_type": "execute_result"
    }
   ],
   "source": [
    "df1.head(3)"
   ]
  },
  {
   "cell_type": "code",
   "execution_count": 63,
   "id": "202052a4",
   "metadata": {},
   "outputs": [
    {
     "data": {
      "text/plain": [
       "(1243, 7)"
      ]
     },
     "execution_count": 63,
     "metadata": {},
     "output_type": "execute_result"
    }
   ],
   "source": [
    "df1.shape"
   ]
  },
  {
   "cell_type": "code",
   "execution_count": 64,
   "id": "a3f211c2",
   "metadata": {},
   "outputs": [
    {
     "data": {
      "text/plain": [
       "Unnamed: 0     int64\n",
       "충전소명          object\n",
       "충전기ID          int64\n",
       "주소            object\n",
       "마지막충전시작일시     object\n",
       "마지막충전종료일시     object\n",
       "상태갱신일시        object\n",
       "dtype: object"
      ]
     },
     "execution_count": 64,
     "metadata": {},
     "output_type": "execute_result"
    }
   ],
   "source": [
    "df1.dtypes"
   ]
  },
  {
   "cell_type": "markdown",
   "id": "5a633dc4",
   "metadata": {},
   "source": [
    "- 약 2시간 간격으로 페이지 전체를 파싱했음. **마지막충전시작일시**가 업데이트 된 충전소와 그에 해당하는 정보들만을 모아서\n",
    "테이블을 따로 만들것임\n",
    "- 마지막충전시작일시가 NaN인 값도, 1970년도인 값도 있음. 내림차순 정렬뒤, 12일 이후 데이터만을 가지고 비교함"
   ]
  },
  {
   "cell_type": "code",
   "execution_count": 88,
   "id": "5e2f6146",
   "metadata": {},
   "outputs": [],
   "source": [
    "df1['마지막충전시작일시2'] = pd.to_datetime(df1['마지막충전시작일시'])\n",
    "df2['마지막충전시작일시2'] = pd.to_datetime(df2['마지막충전시작일시'])"
   ]
  },
  {
   "cell_type": "code",
   "execution_count": 66,
   "id": "bf44a9b3",
   "metadata": {},
   "outputs": [
    {
     "data": {
      "text/plain": [
       "Unnamed: 0             int64\n",
       "충전소명                  object\n",
       "충전기ID                  int64\n",
       "주소                    object\n",
       "마지막충전시작일시             object\n",
       "마지막충전종료일시             object\n",
       "상태갱신일시                object\n",
       "마지막충전시작일시2    datetime64[ns]\n",
       "dtype: object"
      ]
     },
     "execution_count": 66,
     "metadata": {},
     "output_type": "execute_result"
    }
   ],
   "source": [
    "df1.dtypes"
   ]
  },
  {
   "cell_type": "code",
   "execution_count": 99,
   "id": "5a4b447e",
   "metadata": {},
   "outputs": [],
   "source": [
    "df1 = df1.sort_values(by=['마지막충전시작일시2'], ascending=[False])\n",
    "df2 = df2.sort_values(by=['마지막충전시작일시2'], ascending=[False])"
   ]
  },
  {
   "cell_type": "code",
   "execution_count": 100,
   "id": "5f2f518b",
   "metadata": {},
   "outputs": [
    {
     "data": {
      "text/html": [
       "<div>\n",
       "<style scoped>\n",
       "    .dataframe tbody tr th:only-of-type {\n",
       "        vertical-align: middle;\n",
       "    }\n",
       "\n",
       "    .dataframe tbody tr th {\n",
       "        vertical-align: top;\n",
       "    }\n",
       "\n",
       "    .dataframe thead th {\n",
       "        text-align: right;\n",
       "    }\n",
       "</style>\n",
       "<table border=\"1\" class=\"dataframe\">\n",
       "  <thead>\n",
       "    <tr style=\"text-align: right;\">\n",
       "      <th></th>\n",
       "      <th>Unnamed: 0</th>\n",
       "      <th>충전소명</th>\n",
       "      <th>충전기ID</th>\n",
       "      <th>주소</th>\n",
       "      <th>마지막충전시작일시</th>\n",
       "      <th>마지막충전종료일시</th>\n",
       "      <th>상태갱신일시</th>\n",
       "      <th>마지막충전시작일시2</th>\n",
       "    </tr>\n",
       "  </thead>\n",
       "  <tbody>\n",
       "    <tr>\n",
       "      <th>1150</th>\n",
       "      <td>1150</td>\n",
       "      <td>죽전휴게소(서울방향)</td>\n",
       "      <td>2</td>\n",
       "      <td>경기도 용인시 수지구 경부고속도로 400 (죽전동)</td>\n",
       "      <td>2022-09-15 05:36:40</td>\n",
       "      <td>2022-09-15 05:41:06</td>\n",
       "      <td>2022-09-15 05:41:07</td>\n",
       "      <td>2022-09-15 05:36:40</td>\n",
       "    </tr>\n",
       "    <tr>\n",
       "      <th>1145</th>\n",
       "      <td>1145</td>\n",
       "      <td>죽전휴게소 (서울방향)</td>\n",
       "      <td>1</td>\n",
       "      <td>경기도 용인시 수지구 경부고속도로400</td>\n",
       "      <td>2022-09-15 05:04:10</td>\n",
       "      <td>2022-09-15 05:39:24</td>\n",
       "      <td>2022-09-15 05:39:24</td>\n",
       "      <td>2022-09-15 05:04:10</td>\n",
       "    </tr>\n",
       "    <tr>\n",
       "      <th>1146</th>\n",
       "      <td>1146</td>\n",
       "      <td>죽전휴게소 (서울방향)</td>\n",
       "      <td>2</td>\n",
       "      <td>경기도 용인시 수지구 경부고속도로400</td>\n",
       "      <td>2022-09-15 05:02:58</td>\n",
       "      <td>2022-09-15 05:12:12</td>\n",
       "      <td>2022-09-15 05:13:34</td>\n",
       "      <td>2022-09-15 05:02:58</td>\n",
       "    </tr>\n",
       "    <tr>\n",
       "      <th>1147</th>\n",
       "      <td>1147</td>\n",
       "      <td>죽전휴게소 (서울방향)</td>\n",
       "      <td>81</td>\n",
       "      <td>경기도 용인시 수지구 경부고속도로400</td>\n",
       "      <td>2022-09-15 05:00:42</td>\n",
       "      <td>2022-09-15 05:40:48</td>\n",
       "      <td>2022-09-15 05:41:29</td>\n",
       "      <td>2022-09-15 05:00:42</td>\n",
       "    </tr>\n",
       "    <tr>\n",
       "      <th>1148</th>\n",
       "      <td>1148</td>\n",
       "      <td>죽전휴게소 (서울방향)</td>\n",
       "      <td>82</td>\n",
       "      <td>경기도 용인시 수지구 경부고속도로400</td>\n",
       "      <td>2022-09-15 04:48:07</td>\n",
       "      <td>2022-09-15 05:16:00</td>\n",
       "      <td>2022-09-15 05:16:00</td>\n",
       "      <td>2022-09-15 04:48:07</td>\n",
       "    </tr>\n",
       "    <tr>\n",
       "      <th>...</th>\n",
       "      <td>...</td>\n",
       "      <td>...</td>\n",
       "      <td>...</td>\n",
       "      <td>...</td>\n",
       "      <td>...</td>\n",
       "      <td>...</td>\n",
       "      <td>...</td>\n",
       "      <td>...</td>\n",
       "    </tr>\n",
       "    <tr>\n",
       "      <th>1136</th>\n",
       "      <td>1136</td>\n",
       "      <td>죽전누리에뜰</td>\n",
       "      <td>1</td>\n",
       "      <td>경기도 용인시 기흥구 죽전로 20</td>\n",
       "      <td>NaN</td>\n",
       "      <td>NaN</td>\n",
       "      <td>NaN</td>\n",
       "      <td>NaT</td>\n",
       "    </tr>\n",
       "    <tr>\n",
       "      <th>1137</th>\n",
       "      <td>1137</td>\n",
       "      <td>죽전누리에뜰</td>\n",
       "      <td>2</td>\n",
       "      <td>경기도 용인시 기흥구 죽전로 20</td>\n",
       "      <td>NaN</td>\n",
       "      <td>NaN</td>\n",
       "      <td>NaN</td>\n",
       "      <td>NaT</td>\n",
       "    </tr>\n",
       "    <tr>\n",
       "      <th>1138</th>\n",
       "      <td>1138</td>\n",
       "      <td>죽전누리에뜰</td>\n",
       "      <td>3</td>\n",
       "      <td>경기도 용인시 기흥구 죽전로 20</td>\n",
       "      <td>NaN</td>\n",
       "      <td>NaN</td>\n",
       "      <td>NaN</td>\n",
       "      <td>NaT</td>\n",
       "    </tr>\n",
       "    <tr>\n",
       "      <th>1139</th>\n",
       "      <td>1139</td>\n",
       "      <td>죽전누리에뜰</td>\n",
       "      <td>4</td>\n",
       "      <td>경기도 용인시 기흥구 죽전로 20</td>\n",
       "      <td>NaN</td>\n",
       "      <td>NaN</td>\n",
       "      <td>NaN</td>\n",
       "      <td>NaT</td>\n",
       "    </tr>\n",
       "    <tr>\n",
       "      <th>1203</th>\n",
       "      <td>1203</td>\n",
       "      <td>한국 대중불교불이종 동도사</td>\n",
       "      <td>2</td>\n",
       "      <td>경기도 용인시 처인구 이동읍 어진로 842</td>\n",
       "      <td>NaN</td>\n",
       "      <td>NaN</td>\n",
       "      <td>2021-12-06 09:48:10</td>\n",
       "      <td>NaT</td>\n",
       "    </tr>\n",
       "  </tbody>\n",
       "</table>\n",
       "<p>1243 rows × 8 columns</p>\n",
       "</div>"
      ],
      "text/plain": [
       "      Unnamed: 0            충전소명  충전기ID                            주소  \\\n",
       "1150        1150     죽전휴게소(서울방향)      2  경기도 용인시 수지구 경부고속도로 400 (죽전동)   \n",
       "1145        1145    죽전휴게소 (서울방향)      1         경기도 용인시 수지구 경부고속도로400   \n",
       "1146        1146    죽전휴게소 (서울방향)      2         경기도 용인시 수지구 경부고속도로400   \n",
       "1147        1147    죽전휴게소 (서울방향)     81         경기도 용인시 수지구 경부고속도로400   \n",
       "1148        1148    죽전휴게소 (서울방향)     82         경기도 용인시 수지구 경부고속도로400   \n",
       "...          ...             ...    ...                           ...   \n",
       "1136        1136          죽전누리에뜰      1            경기도 용인시 기흥구 죽전로 20   \n",
       "1137        1137          죽전누리에뜰      2            경기도 용인시 기흥구 죽전로 20   \n",
       "1138        1138          죽전누리에뜰      3            경기도 용인시 기흥구 죽전로 20   \n",
       "1139        1139          죽전누리에뜰      4            경기도 용인시 기흥구 죽전로 20   \n",
       "1203        1203  한국 대중불교불이종 동도사      2       경기도 용인시 처인구 이동읍 어진로 842   \n",
       "\n",
       "                마지막충전시작일시            마지막충전종료일시               상태갱신일시  \\\n",
       "1150  2022-09-15 05:36:40  2022-09-15 05:41:06  2022-09-15 05:41:07   \n",
       "1145  2022-09-15 05:04:10  2022-09-15 05:39:24  2022-09-15 05:39:24   \n",
       "1146  2022-09-15 05:02:58  2022-09-15 05:12:12  2022-09-15 05:13:34   \n",
       "1147  2022-09-15 05:00:42  2022-09-15 05:40:48  2022-09-15 05:41:29   \n",
       "1148  2022-09-15 04:48:07  2022-09-15 05:16:00  2022-09-15 05:16:00   \n",
       "...                   ...                  ...                  ...   \n",
       "1136                  NaN                  NaN                  NaN   \n",
       "1137                  NaN                  NaN                  NaN   \n",
       "1138                  NaN                  NaN                  NaN   \n",
       "1139                  NaN                  NaN                  NaN   \n",
       "1203                  NaN                  NaN  2021-12-06 09:48:10   \n",
       "\n",
       "              마지막충전시작일시2  \n",
       "1150 2022-09-15 05:36:40  \n",
       "1145 2022-09-15 05:04:10  \n",
       "1146 2022-09-15 05:02:58  \n",
       "1147 2022-09-15 05:00:42  \n",
       "1148 2022-09-15 04:48:07  \n",
       "...                  ...  \n",
       "1136                 NaT  \n",
       "1137                 NaT  \n",
       "1138                 NaT  \n",
       "1139                 NaT  \n",
       "1203                 NaT  \n",
       "\n",
       "[1243 rows x 8 columns]"
      ]
     },
     "execution_count": 100,
     "metadata": {},
     "output_type": "execute_result"
    }
   ],
   "source": [
    "df1"
   ]
  },
  {
   "cell_type": "markdown",
   "id": "00e5e686",
   "metadata": {},
   "source": [
    "## 날짜 가지고 놀기"
   ]
  },
  {
   "cell_type": "code",
   "execution_count": 107,
   "id": "3062418d",
   "metadata": {},
   "outputs": [
    {
     "data": {
      "text/plain": [
       "Unnamed: 0                            1150\n",
       "충전소명                           죽전휴게소(서울방향)\n",
       "충전기ID                                    2\n",
       "주소            경기도 용인시 수지구 경부고속도로 400 (죽전동)\n",
       "마지막충전시작일시              2022-09-15 05:36:40\n",
       "마지막충전종료일시              2022-09-15 05:41:06\n",
       "상태갱신일시                 2022-09-15 05:41:07\n",
       "마지막충전시작일시2             2022-09-15 05:36:40\n",
       "Name: 1150, dtype: object"
      ]
     },
     "execution_count": 107,
     "metadata": {},
     "output_type": "execute_result"
    }
   ],
   "source": [
    "df1.iloc[0] # loc 하면 인덱스가 0인 친구\n",
    "            # iloc 하면 지금 테이블에서의 맨 윗 행"
   ]
  },
  {
   "cell_type": "code",
   "execution_count": 114,
   "id": "64ee6d20",
   "metadata": {},
   "outputs": [
    {
     "data": {
      "text/plain": [
       "'2022-09-15'"
      ]
     },
     "execution_count": 114,
     "metadata": {},
     "output_type": "execute_result"
    }
   ],
   "source": [
    "df1.iloc[0]['마지막충전시작일시'][0:10]"
   ]
  },
  {
   "cell_type": "code",
   "execution_count": 127,
   "id": "d76eabea",
   "metadata": {},
   "outputs": [
    {
     "data": {
      "text/plain": [
       "datetime.date(2022, 9, 15)"
      ]
     },
     "execution_count": 127,
     "metadata": {},
     "output_type": "execute_result"
    }
   ],
   "source": [
    "DATE = df1.iloc[0]['마지막충전시작일시2'].date() #날짜만 추출\n",
    "DATE"
   ]
  },
  {
   "cell_type": "code",
   "execution_count": 135,
   "id": "9f317a64",
   "metadata": {},
   "outputs": [],
   "source": [
    "nextday = DATE + datetime.timedelta(days=1) # 다음날"
   ]
  },
  {
   "cell_type": "code",
   "execution_count": 136,
   "id": "c717cc32",
   "metadata": {},
   "outputs": [
    {
     "data": {
      "text/plain": [
       "'2022-09-16'"
      ]
     },
     "execution_count": 136,
     "metadata": {},
     "output_type": "execute_result"
    }
   ],
   "source": [
    "nextday.strftime(\"%Y-%m-%d\") # 문자열로 변환"
   ]
  },
  {
   "cell_type": "code",
   "execution_count": 137,
   "id": "a10d1461",
   "metadata": {},
   "outputs": [],
   "source": [
    "one = '2022-09-12' # 12일 00시 부터\n",
    "two = nextday.strftime(\"%Y-%m-%d\") # 해당 파일날짜 +1 까지"
   ]
  },
  {
   "cell_type": "code",
   "execution_count": 138,
   "id": "e68a920e",
   "metadata": {},
   "outputs": [
    {
     "data": {
      "text/html": [
       "<div>\n",
       "<style scoped>\n",
       "    .dataframe tbody tr th:only-of-type {\n",
       "        vertical-align: middle;\n",
       "    }\n",
       "\n",
       "    .dataframe tbody tr th {\n",
       "        vertical-align: top;\n",
       "    }\n",
       "\n",
       "    .dataframe thead th {\n",
       "        text-align: right;\n",
       "    }\n",
       "</style>\n",
       "<table border=\"1\" class=\"dataframe\">\n",
       "  <thead>\n",
       "    <tr style=\"text-align: right;\">\n",
       "      <th></th>\n",
       "      <th>Unnamed: 0</th>\n",
       "      <th>충전소명</th>\n",
       "      <th>충전기ID</th>\n",
       "      <th>주소</th>\n",
       "      <th>마지막충전시작일시</th>\n",
       "      <th>마지막충전종료일시</th>\n",
       "      <th>상태갱신일시</th>\n",
       "      <th>마지막충전시작일시2</th>\n",
       "    </tr>\n",
       "  </thead>\n",
       "  <tbody>\n",
       "    <tr>\n",
       "      <th>1150</th>\n",
       "      <td>1150</td>\n",
       "      <td>죽전휴게소(서울방향)</td>\n",
       "      <td>2</td>\n",
       "      <td>경기도 용인시 수지구 경부고속도로 400 (죽전동)</td>\n",
       "      <td>2022-09-15 05:36:40</td>\n",
       "      <td>2022-09-15 05:41:06</td>\n",
       "      <td>2022-09-15 05:41:07</td>\n",
       "      <td>2022-09-15 05:36:40</td>\n",
       "    </tr>\n",
       "    <tr>\n",
       "      <th>1145</th>\n",
       "      <td>1145</td>\n",
       "      <td>죽전휴게소 (서울방향)</td>\n",
       "      <td>1</td>\n",
       "      <td>경기도 용인시 수지구 경부고속도로400</td>\n",
       "      <td>2022-09-15 05:04:10</td>\n",
       "      <td>2022-09-15 05:39:24</td>\n",
       "      <td>2022-09-15 05:39:24</td>\n",
       "      <td>2022-09-15 05:04:10</td>\n",
       "    </tr>\n",
       "    <tr>\n",
       "      <th>1146</th>\n",
       "      <td>1146</td>\n",
       "      <td>죽전휴게소 (서울방향)</td>\n",
       "      <td>2</td>\n",
       "      <td>경기도 용인시 수지구 경부고속도로400</td>\n",
       "      <td>2022-09-15 05:02:58</td>\n",
       "      <td>2022-09-15 05:12:12</td>\n",
       "      <td>2022-09-15 05:13:34</td>\n",
       "      <td>2022-09-15 05:02:58</td>\n",
       "    </tr>\n",
       "    <tr>\n",
       "      <th>1147</th>\n",
       "      <td>1147</td>\n",
       "      <td>죽전휴게소 (서울방향)</td>\n",
       "      <td>81</td>\n",
       "      <td>경기도 용인시 수지구 경부고속도로400</td>\n",
       "      <td>2022-09-15 05:00:42</td>\n",
       "      <td>2022-09-15 05:40:48</td>\n",
       "      <td>2022-09-15 05:41:29</td>\n",
       "      <td>2022-09-15 05:00:42</td>\n",
       "    </tr>\n",
       "    <tr>\n",
       "      <th>1148</th>\n",
       "      <td>1148</td>\n",
       "      <td>죽전휴게소 (서울방향)</td>\n",
       "      <td>82</td>\n",
       "      <td>경기도 용인시 수지구 경부고속도로400</td>\n",
       "      <td>2022-09-15 04:48:07</td>\n",
       "      <td>2022-09-15 05:16:00</td>\n",
       "      <td>2022-09-15 05:16:00</td>\n",
       "      <td>2022-09-15 04:48:07</td>\n",
       "    </tr>\n",
       "    <tr>\n",
       "      <th>...</th>\n",
       "      <td>...</td>\n",
       "      <td>...</td>\n",
       "      <td>...</td>\n",
       "      <td>...</td>\n",
       "      <td>...</td>\n",
       "      <td>...</td>\n",
       "      <td>...</td>\n",
       "      <td>...</td>\n",
       "    </tr>\n",
       "    <tr>\n",
       "      <th>1241</th>\n",
       "      <td>1241</td>\n",
       "      <td>흥덕동원로얄듀크아파트</td>\n",
       "      <td>2</td>\n",
       "      <td>경기도 용인시 기흥구 흥덕중앙로105번길 24</td>\n",
       "      <td>2022-09-12 00:45:27</td>\n",
       "      <td>2022-09-12 05:13:40</td>\n",
       "      <td>2022-09-14 19:50:24</td>\n",
       "      <td>2022-09-12 00:45:27</td>\n",
       "    </tr>\n",
       "    <tr>\n",
       "      <th>984</th>\n",
       "      <td>984</td>\n",
       "      <td>용인 신봉마을엘지빌리지5차아파트1</td>\n",
       "      <td>3</td>\n",
       "      <td>경기도 용인시 수지구 신봉1로 112-2</td>\n",
       "      <td>2022-09-12 00:35:17</td>\n",
       "      <td>2022-09-12 10:24:59</td>\n",
       "      <td>2022-09-15 01:03:58</td>\n",
       "      <td>2022-09-12 00:35:17</td>\n",
       "    </tr>\n",
       "    <tr>\n",
       "      <th>571</th>\n",
       "      <td>571</td>\n",
       "      <td>동백 동원로얄듀크(P2주차장)</td>\n",
       "      <td>2</td>\n",
       "      <td>경기도 용인시 기흥구 동백죽전대로 455-17 (동백동, 동원마을 동원로얄듀크)</td>\n",
       "      <td>2022-09-12 00:16:48</td>\n",
       "      <td>2022-09-12 02:38:18</td>\n",
       "      <td>2022-09-12 09:00:17</td>\n",
       "      <td>2022-09-12 00:16:48</td>\n",
       "    </tr>\n",
       "    <tr>\n",
       "      <th>806</th>\n",
       "      <td>806</td>\n",
       "      <td>신봉동일하이빌2단지208동</td>\n",
       "      <td>2</td>\n",
       "      <td>경기도 용인시 수지구 신봉3로11번길 10-7 (신봉동, 신봉마을 동일하이빌 2단지)</td>\n",
       "      <td>2022-09-12 00:11:13</td>\n",
       "      <td>2022-09-12 09:54:06</td>\n",
       "      <td>2022-09-14 16:21:51</td>\n",
       "      <td>2022-09-12 00:11:13</td>\n",
       "    </tr>\n",
       "    <tr>\n",
       "      <th>163</th>\n",
       "      <td>163</td>\n",
       "      <td>경기용인 민속마을쌍용아파트5(B2)</td>\n",
       "      <td>1</td>\n",
       "      <td>경기도 용인시 기흥구 사은로126번길 10</td>\n",
       "      <td>2022-09-12 00:06:54</td>\n",
       "      <td>2022-09-12 09:51:03</td>\n",
       "      <td>2022-09-12 09:51:09</td>\n",
       "      <td>2022-09-12 00:06:54</td>\n",
       "    </tr>\n",
       "  </tbody>\n",
       "</table>\n",
       "<p>682 rows × 8 columns</p>\n",
       "</div>"
      ],
      "text/plain": [
       "      Unnamed: 0                 충전소명  충전기ID  \\\n",
       "1150        1150          죽전휴게소(서울방향)      2   \n",
       "1145        1145         죽전휴게소 (서울방향)      1   \n",
       "1146        1146         죽전휴게소 (서울방향)      2   \n",
       "1147        1147         죽전휴게소 (서울방향)     81   \n",
       "1148        1148         죽전휴게소 (서울방향)     82   \n",
       "...          ...                  ...    ...   \n",
       "1241        1241          흥덕동원로얄듀크아파트      2   \n",
       "984          984   용인 신봉마을엘지빌리지5차아파트1      3   \n",
       "571          571     동백 동원로얄듀크(P2주차장)      2   \n",
       "806          806       신봉동일하이빌2단지208동      2   \n",
       "163          163  경기용인 민속마을쌍용아파트5(B2)      1   \n",
       "\n",
       "                                                   주소            마지막충전시작일시  \\\n",
       "1150                     경기도 용인시 수지구 경부고속도로 400 (죽전동)  2022-09-15 05:36:40   \n",
       "1145                            경기도 용인시 수지구 경부고속도로400  2022-09-15 05:04:10   \n",
       "1146                            경기도 용인시 수지구 경부고속도로400  2022-09-15 05:02:58   \n",
       "1147                            경기도 용인시 수지구 경부고속도로400  2022-09-15 05:00:42   \n",
       "1148                            경기도 용인시 수지구 경부고속도로400  2022-09-15 04:48:07   \n",
       "...                                               ...                  ...   \n",
       "1241                        경기도 용인시 기흥구 흥덕중앙로105번길 24  2022-09-12 00:45:27   \n",
       "984                            경기도 용인시 수지구 신봉1로 112-2  2022-09-12 00:35:17   \n",
       "571      경기도 용인시 기흥구 동백죽전대로 455-17 (동백동, 동원마을 동원로얄듀크)  2022-09-12 00:16:48   \n",
       "806   경기도 용인시 수지구 신봉3로11번길 10-7 (신봉동, 신봉마을 동일하이빌 2단지)  2022-09-12 00:11:13   \n",
       "163                           경기도 용인시 기흥구 사은로126번길 10  2022-09-12 00:06:54   \n",
       "\n",
       "                마지막충전종료일시               상태갱신일시          마지막충전시작일시2  \n",
       "1150  2022-09-15 05:41:06  2022-09-15 05:41:07 2022-09-15 05:36:40  \n",
       "1145  2022-09-15 05:39:24  2022-09-15 05:39:24 2022-09-15 05:04:10  \n",
       "1146  2022-09-15 05:12:12  2022-09-15 05:13:34 2022-09-15 05:02:58  \n",
       "1147  2022-09-15 05:40:48  2022-09-15 05:41:29 2022-09-15 05:00:42  \n",
       "1148  2022-09-15 05:16:00  2022-09-15 05:16:00 2022-09-15 04:48:07  \n",
       "...                   ...                  ...                 ...  \n",
       "1241  2022-09-12 05:13:40  2022-09-14 19:50:24 2022-09-12 00:45:27  \n",
       "984   2022-09-12 10:24:59  2022-09-15 01:03:58 2022-09-12 00:35:17  \n",
       "571   2022-09-12 02:38:18  2022-09-12 09:00:17 2022-09-12 00:16:48  \n",
       "806   2022-09-12 09:54:06  2022-09-14 16:21:51 2022-09-12 00:11:13  \n",
       "163   2022-09-12 09:51:03  2022-09-12 09:51:09 2022-09-12 00:06:54  \n",
       "\n",
       "[682 rows x 8 columns]"
      ]
     },
     "execution_count": 138,
     "metadata": {},
     "output_type": "execute_result"
    }
   ],
   "source": [
    "mask = (df1['마지막충전시작일시2']>=one)&(df1['마지막충전시작일시2']<=two)\n",
    "filtered1 = df1.loc[mask]\n",
    "filtered1"
   ]
  },
  {
   "cell_type": "code",
   "execution_count": 139,
   "id": "07ec814e",
   "metadata": {},
   "outputs": [],
   "source": [
    "# df2도 df1과 같이 진행\n",
    "DATE = df2.iloc[0]['마지막충전시작일시2'].date() \n",
    "nextday = DATE + datetime.timedelta(days=1)\n",
    "nextday.strftime(\"%Y-%m-%d\")\n",
    "\n",
    "one = '2022-09-12' # 12일 00시 부터\n",
    "two = nextday.strftime(\"%Y-%m-%d\") # 해당 파일날짜 +1 까지"
   ]
  },
  {
   "cell_type": "code",
   "execution_count": 140,
   "id": "323f86c5",
   "metadata": {},
   "outputs": [
    {
     "data": {
      "text/html": [
       "<div>\n",
       "<style scoped>\n",
       "    .dataframe tbody tr th:only-of-type {\n",
       "        vertical-align: middle;\n",
       "    }\n",
       "\n",
       "    .dataframe tbody tr th {\n",
       "        vertical-align: top;\n",
       "    }\n",
       "\n",
       "    .dataframe thead th {\n",
       "        text-align: right;\n",
       "    }\n",
       "</style>\n",
       "<table border=\"1\" class=\"dataframe\">\n",
       "  <thead>\n",
       "    <tr style=\"text-align: right;\">\n",
       "      <th></th>\n",
       "      <th>Unnamed: 0</th>\n",
       "      <th>충전소명</th>\n",
       "      <th>충전기ID</th>\n",
       "      <th>주소</th>\n",
       "      <th>마지막충전시작일시</th>\n",
       "      <th>마지막충전종료일시</th>\n",
       "      <th>상태갱신일시</th>\n",
       "      <th>마지막충전시작일시2</th>\n",
       "    </tr>\n",
       "  </thead>\n",
       "  <tbody>\n",
       "    <tr>\n",
       "      <th>1044</th>\n",
       "      <td>1044</td>\n",
       "      <td>용인시 용인시청주차장</td>\n",
       "      <td>2</td>\n",
       "      <td>경기도 용인시 처인구 중부대로 1199</td>\n",
       "      <td>2022-09-15 07:28:21</td>\n",
       "      <td>2022-09-15 07:29:46</td>\n",
       "      <td>2022-09-15 07:41:14</td>\n",
       "      <td>2022-09-15 07:28:21</td>\n",
       "    </tr>\n",
       "    <tr>\n",
       "      <th>1146</th>\n",
       "      <td>1146</td>\n",
       "      <td>죽전휴게소 (서울방향)</td>\n",
       "      <td>2</td>\n",
       "      <td>경기도 용인시 수지구 경부고속도로400</td>\n",
       "      <td>2022-09-15 07:26:49</td>\n",
       "      <td>2022-09-15 07:38:22</td>\n",
       "      <td>2022-09-15 07:38:22</td>\n",
       "      <td>2022-09-15 07:26:49</td>\n",
       "    </tr>\n",
       "    <tr>\n",
       "      <th>1150</th>\n",
       "      <td>1150</td>\n",
       "      <td>죽전휴게소(서울방향)</td>\n",
       "      <td>2</td>\n",
       "      <td>경기도 용인시 수지구 경부고속도로 400 (죽전동)</td>\n",
       "      <td>2022-09-15 07:12:30</td>\n",
       "      <td>2022-09-15 07:42:05</td>\n",
       "      <td>2022-09-15 07:42:07</td>\n",
       "      <td>2022-09-15 07:12:30</td>\n",
       "    </tr>\n",
       "  </tbody>\n",
       "</table>\n",
       "</div>"
      ],
      "text/plain": [
       "      Unnamed: 0          충전소명  충전기ID                            주소  \\\n",
       "1044        1044   용인시 용인시청주차장      2         경기도 용인시 처인구 중부대로 1199   \n",
       "1146        1146  죽전휴게소 (서울방향)      2         경기도 용인시 수지구 경부고속도로400   \n",
       "1150        1150   죽전휴게소(서울방향)      2  경기도 용인시 수지구 경부고속도로 400 (죽전동)   \n",
       "\n",
       "                마지막충전시작일시            마지막충전종료일시               상태갱신일시  \\\n",
       "1044  2022-09-15 07:28:21  2022-09-15 07:29:46  2022-09-15 07:41:14   \n",
       "1146  2022-09-15 07:26:49  2022-09-15 07:38:22  2022-09-15 07:38:22   \n",
       "1150  2022-09-15 07:12:30  2022-09-15 07:42:05  2022-09-15 07:42:07   \n",
       "\n",
       "              마지막충전시작일시2  \n",
       "1044 2022-09-15 07:28:21  \n",
       "1146 2022-09-15 07:26:49  \n",
       "1150 2022-09-15 07:12:30  "
      ]
     },
     "execution_count": 140,
     "metadata": {},
     "output_type": "execute_result"
    }
   ],
   "source": [
    "mask = (df2['마지막충전시작일시2']>=one)&(df2['마지막충전시작일시2']<=two)\n",
    "filtered2 = df2.loc[mask]\n",
    "filtered2.head(3)"
   ]
  },
  {
   "cell_type": "code",
   "execution_count": 141,
   "id": "600f711e",
   "metadata": {},
   "outputs": [
    {
     "data": {
      "text/html": [
       "<div>\n",
       "<style scoped>\n",
       "    .dataframe tbody tr th:only-of-type {\n",
       "        vertical-align: middle;\n",
       "    }\n",
       "\n",
       "    .dataframe tbody tr th {\n",
       "        vertical-align: top;\n",
       "    }\n",
       "\n",
       "    .dataframe thead th {\n",
       "        text-align: right;\n",
       "    }\n",
       "</style>\n",
       "<table border=\"1\" class=\"dataframe\">\n",
       "  <thead>\n",
       "    <tr style=\"text-align: right;\">\n",
       "      <th></th>\n",
       "      <th>Unnamed: 0</th>\n",
       "      <th>충전소명</th>\n",
       "      <th>충전기ID</th>\n",
       "      <th>주소</th>\n",
       "      <th>마지막충전시작일시</th>\n",
       "      <th>마지막충전종료일시</th>\n",
       "      <th>상태갱신일시</th>\n",
       "      <th>마지막충전시작일시2</th>\n",
       "    </tr>\n",
       "  </thead>\n",
       "  <tbody>\n",
       "    <tr>\n",
       "      <th>1150</th>\n",
       "      <td>1150</td>\n",
       "      <td>죽전휴게소(서울방향)</td>\n",
       "      <td>2</td>\n",
       "      <td>경기도 용인시 수지구 경부고속도로 400 (죽전동)</td>\n",
       "      <td>2022-09-15 05:36:40</td>\n",
       "      <td>2022-09-15 05:41:06</td>\n",
       "      <td>2022-09-15 05:41:07</td>\n",
       "      <td>2022-09-15 05:36:40</td>\n",
       "    </tr>\n",
       "    <tr>\n",
       "      <th>1145</th>\n",
       "      <td>1145</td>\n",
       "      <td>죽전휴게소 (서울방향)</td>\n",
       "      <td>1</td>\n",
       "      <td>경기도 용인시 수지구 경부고속도로400</td>\n",
       "      <td>2022-09-15 05:04:10</td>\n",
       "      <td>2022-09-15 05:39:24</td>\n",
       "      <td>2022-09-15 05:39:24</td>\n",
       "      <td>2022-09-15 05:04:10</td>\n",
       "    </tr>\n",
       "    <tr>\n",
       "      <th>1146</th>\n",
       "      <td>1146</td>\n",
       "      <td>죽전휴게소 (서울방향)</td>\n",
       "      <td>2</td>\n",
       "      <td>경기도 용인시 수지구 경부고속도로400</td>\n",
       "      <td>2022-09-15 05:02:58</td>\n",
       "      <td>2022-09-15 05:12:12</td>\n",
       "      <td>2022-09-15 05:13:34</td>\n",
       "      <td>2022-09-15 05:02:58</td>\n",
       "    </tr>\n",
       "    <tr>\n",
       "      <th>1147</th>\n",
       "      <td>1147</td>\n",
       "      <td>죽전휴게소 (서울방향)</td>\n",
       "      <td>81</td>\n",
       "      <td>경기도 용인시 수지구 경부고속도로400</td>\n",
       "      <td>2022-09-15 05:00:42</td>\n",
       "      <td>2022-09-15 05:40:48</td>\n",
       "      <td>2022-09-15 05:41:29</td>\n",
       "      <td>2022-09-15 05:00:42</td>\n",
       "    </tr>\n",
       "    <tr>\n",
       "      <th>1148</th>\n",
       "      <td>1148</td>\n",
       "      <td>죽전휴게소 (서울방향)</td>\n",
       "      <td>82</td>\n",
       "      <td>경기도 용인시 수지구 경부고속도로400</td>\n",
       "      <td>2022-09-15 04:48:07</td>\n",
       "      <td>2022-09-15 05:16:00</td>\n",
       "      <td>2022-09-15 05:16:00</td>\n",
       "      <td>2022-09-15 04:48:07</td>\n",
       "    </tr>\n",
       "    <tr>\n",
       "      <th>...</th>\n",
       "      <td>...</td>\n",
       "      <td>...</td>\n",
       "      <td>...</td>\n",
       "      <td>...</td>\n",
       "      <td>...</td>\n",
       "      <td>...</td>\n",
       "      <td>...</td>\n",
       "      <td>...</td>\n",
       "    </tr>\n",
       "    <tr>\n",
       "      <th>481</th>\n",
       "      <td>481</td>\n",
       "      <td>공세대주피오레2단지</td>\n",
       "      <td>6</td>\n",
       "      <td>경기도 용인시 기흥구 탑실로 152</td>\n",
       "      <td>2022-09-14 15:37:41</td>\n",
       "      <td>2022-09-14 20:13:17</td>\n",
       "      <td>2022-09-15 07:10:30</td>\n",
       "      <td>2022-09-14 15:37:41</td>\n",
       "    </tr>\n",
       "    <tr>\n",
       "      <th>365</th>\n",
       "      <td>365</td>\n",
       "      <td>경기용인 엘지빌리지5차3</td>\n",
       "      <td>3</td>\n",
       "      <td>경기도 용인시 수지구 신봉1로 110</td>\n",
       "      <td>2022-09-14 14:57:24</td>\n",
       "      <td>2022-09-15 06:11:28</td>\n",
       "      <td>2022-09-15 06:31:12</td>\n",
       "      <td>2022-09-14 14:57:24</td>\n",
       "    </tr>\n",
       "    <tr>\n",
       "      <th>218</th>\n",
       "      <td>218</td>\n",
       "      <td>경기용인 센트럴파크원</td>\n",
       "      <td>5</td>\n",
       "      <td>경기도 용인시 기흥구 서천서로 27</td>\n",
       "      <td>2022-09-14 13:41:20</td>\n",
       "      <td>2022-09-15 05:24:40</td>\n",
       "      <td>2022-09-15 05:45:18</td>\n",
       "      <td>2022-09-14 13:41:20</td>\n",
       "    </tr>\n",
       "    <tr>\n",
       "      <th>1118</th>\n",
       "      <td>1118</td>\n",
       "      <td>이스트팰리스 4단지4(C3주차장)</td>\n",
       "      <td>11</td>\n",
       "      <td>경기도 용인시 수지구 동천로153번길 6</td>\n",
       "      <td>2022-09-14 10:09:43</td>\n",
       "      <td>2022-09-15 05:09:24</td>\n",
       "      <td>2022-09-15 07:07:29</td>\n",
       "      <td>2022-09-14 10:09:43</td>\n",
       "    </tr>\n",
       "    <tr>\n",
       "      <th>91</th>\n",
       "      <td>91</td>\n",
       "      <td>경기용인 광교상록자이5(B1)</td>\n",
       "      <td>1</td>\n",
       "      <td>경기도 용인시 수지구 광교마을로 62</td>\n",
       "      <td>2022-09-12 14:18:54</td>\n",
       "      <td>2022-09-12 21:06:29</td>\n",
       "      <td>2022-09-15 07:23:44</td>\n",
       "      <td>2022-09-12 14:18:54</td>\n",
       "    </tr>\n",
       "  </tbody>\n",
       "</table>\n",
       "<p>787 rows × 8 columns</p>\n",
       "</div>"
      ],
      "text/plain": [
       "      Unnamed: 0                충전소명  충전기ID                            주소  \\\n",
       "1150        1150         죽전휴게소(서울방향)      2  경기도 용인시 수지구 경부고속도로 400 (죽전동)   \n",
       "1145        1145        죽전휴게소 (서울방향)      1         경기도 용인시 수지구 경부고속도로400   \n",
       "1146        1146        죽전휴게소 (서울방향)      2         경기도 용인시 수지구 경부고속도로400   \n",
       "1147        1147        죽전휴게소 (서울방향)     81         경기도 용인시 수지구 경부고속도로400   \n",
       "1148        1148        죽전휴게소 (서울방향)     82         경기도 용인시 수지구 경부고속도로400   \n",
       "...          ...                 ...    ...                           ...   \n",
       "481          481          공세대주피오레2단지      6           경기도 용인시 기흥구 탑실로 152   \n",
       "365          365       경기용인 엘지빌리지5차3      3          경기도 용인시 수지구 신봉1로 110   \n",
       "218          218         경기용인 센트럴파크원      5           경기도 용인시 기흥구 서천서로 27   \n",
       "1118        1118  이스트팰리스 4단지4(C3주차장)     11        경기도 용인시 수지구 동천로153번길 6   \n",
       "91            91    경기용인 광교상록자이5(B1)      1          경기도 용인시 수지구 광교마을로 62   \n",
       "\n",
       "                마지막충전시작일시            마지막충전종료일시               상태갱신일시  \\\n",
       "1150  2022-09-15 05:36:40  2022-09-15 05:41:06  2022-09-15 05:41:07   \n",
       "1145  2022-09-15 05:04:10  2022-09-15 05:39:24  2022-09-15 05:39:24   \n",
       "1146  2022-09-15 05:02:58  2022-09-15 05:12:12  2022-09-15 05:13:34   \n",
       "1147  2022-09-15 05:00:42  2022-09-15 05:40:48  2022-09-15 05:41:29   \n",
       "1148  2022-09-15 04:48:07  2022-09-15 05:16:00  2022-09-15 05:16:00   \n",
       "...                   ...                  ...                  ...   \n",
       "481   2022-09-14 15:37:41  2022-09-14 20:13:17  2022-09-15 07:10:30   \n",
       "365   2022-09-14 14:57:24  2022-09-15 06:11:28  2022-09-15 06:31:12   \n",
       "218   2022-09-14 13:41:20  2022-09-15 05:24:40  2022-09-15 05:45:18   \n",
       "1118  2022-09-14 10:09:43  2022-09-15 05:09:24  2022-09-15 07:07:29   \n",
       "91    2022-09-12 14:18:54  2022-09-12 21:06:29  2022-09-15 07:23:44   \n",
       "\n",
       "              마지막충전시작일시2  \n",
       "1150 2022-09-15 05:36:40  \n",
       "1145 2022-09-15 05:04:10  \n",
       "1146 2022-09-15 05:02:58  \n",
       "1147 2022-09-15 05:00:42  \n",
       "1148 2022-09-15 04:48:07  \n",
       "...                  ...  \n",
       "481  2022-09-14 15:37:41  \n",
       "365  2022-09-14 14:57:24  \n",
       "218  2022-09-14 13:41:20  \n",
       "1118 2022-09-14 10:09:43  \n",
       "91   2022-09-12 14:18:54  \n",
       "\n",
       "[787 rows x 8 columns]"
      ]
     },
     "execution_count": 141,
     "metadata": {},
     "output_type": "execute_result"
    }
   ],
   "source": [
    "df3 = pd.concat([filtered1,filtered2]) # 1408\n",
    "df4 = df3.drop_duplicates(['마지막충전시작일시'], keep='first') #마지막만 남기기\n",
    "df4"
   ]
  },
  {
   "cell_type": "code",
   "execution_count": 142,
   "id": "2063fbbd",
   "metadata": {},
   "outputs": [],
   "source": [
    "df4.to_excel('전처리완료22.xlsx')"
   ]
  },
  {
   "cell_type": "markdown",
   "id": "4bfb91d4",
   "metadata": {},
   "source": [
    "## 참고 사이트"
   ]
  },
  {
   "cell_type": "markdown",
   "id": "b2fa480b",
   "metadata": {},
   "source": [
    "- 판다스 날짜 데이터 타입 변환\n",
    "https://hiio.tistory.com/30 \n",
    "- 데이터 정렬 (sort_value)\n",
    "https://bigdaheta.tistory.com/44 \n",
    "- 데이터프레임 중복 제거\n",
    "https://mizykk.tistory.com/93 \n",
    "- 날짜 기준으로 데이터 조회 및 처리\n",
    "https://kibua20.tistory.com/195 \n",
    "- 폴더 내 파일리스트 가져오기\n",
    "https://business-analytics.tistory.com/entry/2021-12-28-%EC%9E%91%EC%97%85-66\n",
    "- datetime 날짜, 시간 다루는 방법\n",
    "https://mskim8717.tistory.com/92"
   ]
  }
 ],
 "metadata": {
  "kernelspec": {
   "display_name": "Python 3",
   "language": "python",
   "name": "python3"
  },
  "language_info": {
   "codemirror_mode": {
    "name": "ipython",
    "version": 3
   },
   "file_extension": ".py",
   "mimetype": "text/x-python",
   "name": "python",
   "nbconvert_exporter": "python",
   "pygments_lexer": "ipython3",
   "version": "3.8.8"
  },
  "toc": {
   "base_numbering": 1,
   "nav_menu": {},
   "number_sections": true,
   "sideBar": true,
   "skip_h1_title": true,
   "title_cell": "Table of Contents",
   "title_sidebar": "Contents",
   "toc_cell": true,
   "toc_position": {},
   "toc_section_display": true,
   "toc_window_display": false
  }
 },
 "nbformat": 4,
 "nbformat_minor": 5
}
