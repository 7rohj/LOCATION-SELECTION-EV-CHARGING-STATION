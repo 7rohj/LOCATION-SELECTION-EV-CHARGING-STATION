{
 "cells": [
  {
   "cell_type": "markdown",
   "id": "44a67d5c",
   "metadata": {
    "toc": true
   },
   "source": [
    "<h1>Table of Contents<span class=\"tocSkip\"></span></h1>\n",
    "<div class=\"toc\"><ul class=\"toc-item\"><li><span><a href=\"#자동_19p.m.\" data-toc-modified-id=\"자동_19p.m.-1\"><span class=\"toc-item-num\">1&nbsp;&nbsp;</span>자동_19p.m.</a></span></li><li><span><a href=\"#평일-5일-링크ID별-평균\" data-toc-modified-id=\"평일-5일-링크ID별-평균-2\"><span class=\"toc-item-num\">2&nbsp;&nbsp;</span>평일 5일 링크ID별 평균</a></span></li></ul></div>"
   ]
  },
  {
   "cell_type": "code",
   "execution_count": 1,
   "id": "fd181aba",
   "metadata": {},
   "outputs": [
    {
     "name": "stderr",
     "output_type": "stream",
     "text": [
      "C:\\Users\\User\\anaconda3\\lib\\site-packages\\IPython\\core\\interactiveshell.py:3165: DtypeWarning: Columns (2) have mixed types.Specify dtype option on import or set low_memory=False.\n",
      "  has_raised = await self.run_ast_nodes(code_ast.body, cell_name,\n"
     ]
    }
   ],
   "source": [
    "import pandas as pd\n",
    "\n",
    "df = pd.read_csv('20220919_5Min.csv')"
   ]
  },
  {
   "cell_type": "code",
   "execution_count": 2,
   "id": "25c58976",
   "metadata": {},
   "outputs": [
    {
     "data": {
      "text/plain": [
       "(122631976, 5)"
      ]
     },
     "execution_count": 2,
     "metadata": {},
     "output_type": "execute_result"
    }
   ],
   "source": [
    "df.shape"
   ]
  },
  {
   "cell_type": "code",
   "execution_count": 3,
   "id": "40585dd5",
   "metadata": {},
   "outputs": [
    {
     "data": {
      "text/html": [
       "<div>\n",
       "<style scoped>\n",
       "    .dataframe tbody tr th:only-of-type {\n",
       "        vertical-align: middle;\n",
       "    }\n",
       "\n",
       "    .dataframe tbody tr th {\n",
       "        vertical-align: top;\n",
       "    }\n",
       "\n",
       "    .dataframe thead th {\n",
       "        text-align: right;\n",
       "    }\n",
       "</style>\n",
       "<table border=\"1\" class=\"dataframe\">\n",
       "  <thead>\n",
       "    <tr style=\"text-align: right;\">\n",
       "      <th></th>\n",
       "      <th>20220904</th>\n",
       "      <th>0000</th>\n",
       "      <th>2230357501</th>\n",
       "      <th>46340006</th>\n",
       "      <th>14</th>\n",
       "    </tr>\n",
       "  </thead>\n",
       "  <tbody>\n",
       "    <tr>\n",
       "      <th>0</th>\n",
       "      <td>20220904</td>\n",
       "      <td>0</td>\n",
       "      <td>2070427001</td>\n",
       "      <td>46340006</td>\n",
       "      <td>4.0</td>\n",
       "    </tr>\n",
       "    <tr>\n",
       "      <th>1</th>\n",
       "      <td>20220904</td>\n",
       "      <td>0</td>\n",
       "      <td>3810789001</td>\n",
       "      <td>46340006</td>\n",
       "      <td>26.0</td>\n",
       "    </tr>\n",
       "    <tr>\n",
       "      <th>2</th>\n",
       "      <td>20220904</td>\n",
       "      <td>0</td>\n",
       "      <td>2240915701</td>\n",
       "      <td>46340006</td>\n",
       "      <td>15.0</td>\n",
       "    </tr>\n",
       "    <tr>\n",
       "      <th>3</th>\n",
       "      <td>20220904</td>\n",
       "      <td>0</td>\n",
       "      <td>2240919501</td>\n",
       "      <td>46340006</td>\n",
       "      <td>20.0</td>\n",
       "    </tr>\n",
       "    <tr>\n",
       "      <th>4</th>\n",
       "      <td>20220904</td>\n",
       "      <td>0</td>\n",
       "      <td>3340261401</td>\n",
       "      <td>46340006</td>\n",
       "      <td>4.0</td>\n",
       "    </tr>\n",
       "  </tbody>\n",
       "</table>\n",
       "</div>"
      ],
      "text/plain": [
       "   20220904  0000  2230357501  46340006    14\n",
       "0  20220904     0  2070427001  46340006   4.0\n",
       "1  20220904     0  3810789001  46340006  26.0\n",
       "2  20220904     0  2240915701  46340006  15.0\n",
       "3  20220904     0  2240919501  46340006  20.0\n",
       "4  20220904     0  3340261401  46340006   4.0"
      ]
     },
     "execution_count": 3,
     "metadata": {},
     "output_type": "execute_result"
    }
   ],
   "source": [
    "df.head(5)"
   ]
  },
  {
   "cell_type": "code",
   "execution_count": 2,
   "id": "2bc3968a",
   "metadata": {},
   "outputs": [],
   "source": [
    "df.columns = ['CREAT_DE','CREAT_HM','LINKID','ROAD_INSTT_CODE','PASNG_SPED']"
   ]
  },
  {
   "cell_type": "code",
   "execution_count": null,
   "id": "fd4f532e",
   "metadata": {},
   "outputs": [],
   "source": [
    "CREAT_DE(생성_일자), CREAT_HM(생성_시분), LINKID(링크_ID), ROAD_INSTT_CODE(도로_기관_코드),PASNG_SPED(통행_속도)"
   ]
  },
  {
   "cell_type": "code",
   "execution_count": 5,
   "id": "5366378e",
   "metadata": {},
   "outputs": [
    {
     "data": {
      "text/plain": [
       "CREAT_DE             int64\n",
       "CREAT_HM             int64\n",
       "LINKID              object\n",
       "ROAD_INSTT_CODE      int64\n",
       "PASNG_SPED         float64\n",
       "dtype: object"
      ]
     },
     "execution_count": 5,
     "metadata": {},
     "output_type": "execute_result"
    }
   ],
   "source": [
    "df.dtypes"
   ]
  },
  {
   "cell_type": "code",
   "execution_count": 9,
   "id": "9bbfad8f",
   "metadata": {},
   "outputs": [
    {
     "data": {
      "text/plain": [
       "2355    625699\n",
       "2305    625699\n",
       "2235    625699\n",
       "2250    625699\n",
       "2255    625699\n",
       "         ...  \n",
       "40      625655\n",
       "45      625655\n",
       "50      625655\n",
       "55      625655\n",
       "0       625654\n",
       "Name: CREAT_HM, Length: 196, dtype: int64"
      ]
     },
     "execution_count": 9,
     "metadata": {},
     "output_type": "execute_result"
    }
   ],
   "source": [
    "df['CREAT_HM'].value_counts()"
   ]
  },
  {
   "cell_type": "code",
   "execution_count": 3,
   "id": "648830b3",
   "metadata": {},
   "outputs": [
    {
     "data": {
      "text/plain": [
       "array([   0,    5,   10,   15,   20,   25,   30,   35,   40,   45,   50,\n",
       "         55,  100,  105,  115,  125,  135,  145,  150,  155,  200,  205,\n",
       "        215,  225,  235,  245,  250,  255,  300,  305,  315,  325,  335,\n",
       "        350,  345,  355,  400,  405,  415,  425,  435,  445,  450,  455,\n",
       "        500,  510,  505,  515,  520,  525,  530,  535,  540,  545,  550,\n",
       "        555,  600,  605,  615,  625,  635,  645,  655,  700,  705,  715,\n",
       "        725,  735,  745,  755,  800,  805,  815,  825,  835,  845,  855,\n",
       "        900,  905,  915,  925,  935,  945,  955, 1000, 1005, 1015, 1025,\n",
       "       1035, 1045, 1050, 1055, 1100, 1105, 1115, 1125, 1135, 1145, 1150,\n",
       "       1155, 1200, 1205, 1215, 1225, 1235, 1245, 1250, 1255, 1300, 1305,\n",
       "       1315, 1325, 1335, 1345, 1350, 1355, 1400, 1405, 1415, 1425, 1435,\n",
       "       1450, 1445, 1455, 1500, 1505, 1510, 1515, 1520, 1525, 1530, 1535,\n",
       "       1540, 1545, 1550, 1555, 1600, 1605, 1615, 1625, 1635, 1645, 1700,\n",
       "       1655, 1705, 1715, 1725, 1735, 1745, 1755, 1800, 1805, 1815, 1825,\n",
       "       1835, 1845, 1855, 1900, 1905, 1915, 1925, 1935, 1945, 1955, 2000,\n",
       "       2005, 2015, 2025, 2035, 2045, 2050, 2100, 2055, 2105, 2115, 2125,\n",
       "       2135, 2145, 2150, 2155, 2200, 2205, 2215, 2225, 2235, 2245, 2250,\n",
       "       2255, 2300, 2305, 2315, 2325, 2335, 2345, 2350, 2355], dtype=int64)"
      ]
     },
     "execution_count": 3,
     "metadata": {},
     "output_type": "execute_result"
    }
   ],
   "source": [
    "df['CREAT_HM'].unique()"
   ]
  },
  {
   "cell_type": "code",
   "execution_count": 6,
   "id": "12402d3a",
   "metadata": {},
   "outputs": [
    {
     "data": {
      "text/html": [
       "<div>\n",
       "<style scoped>\n",
       "    .dataframe tbody tr th:only-of-type {\n",
       "        vertical-align: middle;\n",
       "    }\n",
       "\n",
       "    .dataframe tbody tr th {\n",
       "        vertical-align: top;\n",
       "    }\n",
       "\n",
       "    .dataframe thead th {\n",
       "        text-align: right;\n",
       "    }\n",
       "</style>\n",
       "<table border=\"1\" class=\"dataframe\">\n",
       "  <thead>\n",
       "    <tr style=\"text-align: right;\">\n",
       "      <th></th>\n",
       "      <th>CREAT_DE</th>\n",
       "      <th>CREAT_HM</th>\n",
       "      <th>LINKID</th>\n",
       "      <th>ROAD_INSTT_CODE</th>\n",
       "      <th>PASNG_SPED</th>\n",
       "    </tr>\n",
       "  </thead>\n",
       "  <tbody>\n",
       "    <tr>\n",
       "      <th>0</th>\n",
       "      <td>20220904</td>\n",
       "      <td>0</td>\n",
       "      <td>2070427001</td>\n",
       "      <td>46340006</td>\n",
       "      <td>4.0</td>\n",
       "    </tr>\n",
       "    <tr>\n",
       "      <th>1</th>\n",
       "      <td>20220904</td>\n",
       "      <td>0</td>\n",
       "      <td>3810789001</td>\n",
       "      <td>46340006</td>\n",
       "      <td>26.0</td>\n",
       "    </tr>\n",
       "    <tr>\n",
       "      <th>2</th>\n",
       "      <td>20220904</td>\n",
       "      <td>0</td>\n",
       "      <td>2240915701</td>\n",
       "      <td>46340006</td>\n",
       "      <td>15.0</td>\n",
       "    </tr>\n",
       "    <tr>\n",
       "      <th>3</th>\n",
       "      <td>20220904</td>\n",
       "      <td>0</td>\n",
       "      <td>2240919501</td>\n",
       "      <td>46340006</td>\n",
       "      <td>20.0</td>\n",
       "    </tr>\n",
       "    <tr>\n",
       "      <th>4</th>\n",
       "      <td>20220904</td>\n",
       "      <td>0</td>\n",
       "      <td>3340261401</td>\n",
       "      <td>46340006</td>\n",
       "      <td>4.0</td>\n",
       "    </tr>\n",
       "  </tbody>\n",
       "</table>\n",
       "</div>"
      ],
      "text/plain": [
       "   CREAT_DE  CREAT_HM      LINKID  ROAD_INSTT_CODE  PASNG_SPED\n",
       "0  20220904         0  2070427001         46340006         4.0\n",
       "1  20220904         0  3810789001         46340006        26.0\n",
       "2  20220904         0  2240915701         46340006        15.0\n",
       "3  20220904         0  2240919501         46340006        20.0\n",
       "4  20220904         0  3340261401         46340006         4.0"
      ]
     },
     "execution_count": 6,
     "metadata": {},
     "output_type": "execute_result"
    }
   ],
   "source": [
    "df.head(5)"
   ]
  },
  {
   "cell_type": "markdown",
   "id": "25cfcc20",
   "metadata": {},
   "source": [
    "https://zephyrus1111.tistory.com/46\n",
    "https://yganalyst.github.io/data_handling/memo_9/"
   ]
  },
  {
   "cell_type": "markdown",
   "id": "f1f0dffe",
   "metadata": {},
   "source": [
    "## 자동_19p.m."
   ]
  },
  {
   "cell_type": "code",
   "execution_count": 8,
   "id": "4cff0919",
   "metadata": {},
   "outputs": [
    {
     "name": "stderr",
     "output_type": "stream",
     "text": [
      "C:\\Users\\User\\anaconda3\\lib\\site-packages\\IPython\\core\\interactiveshell.py:3165: DtypeWarning: Columns (2) have mixed types.Specify dtype option on import or set low_memory=False.\n",
      "  has_raised = await self.run_ast_nodes(code_ast.body, cell_name,\n"
     ]
    }
   ],
   "source": [
    "import pandas as pd\n",
    "\n",
    "#df = pd.read_csv('C:/Users/User/꾀꼬리/20220919_5Min.csv')\n",
    "#df = pd.read_csv('C:/Users/User/꾀꼬리/20220920_5Min.csv')\n",
    "#df = pd.read_csv('C:/Users/User/꾀꼬리/20220921_5Min.csv')\n",
    "#df = pd.read_csv('C:/Users/User/꾀꼬리/20220922_5Min.csv')\n",
    "df = pd.read_csv('C:/Users/User/꾀꼬리/20220923_5Min.csv')"
   ]
  },
  {
   "cell_type": "code",
   "execution_count": 9,
   "id": "57cf1c5d",
   "metadata": {
    "scrolled": true
   },
   "outputs": [
    {
     "name": "stderr",
     "output_type": "stream",
     "text": [
      "<ipython-input-9-abf6df19b517>:7: SettingWithCopyWarning: \n",
      "A value is trying to be set on a copy of a slice from a DataFrame.\n",
      "Try using .loc[row_indexer,col_indexer] = value instead\n",
      "\n",
      "See the caveats in the documentation: https://pandas.pydata.org/pandas-docs/stable/user_guide/indexing.html#returning-a-view-versus-a-copy\n",
      "  df0['newone'] = df0['LINKID'].astype(str).str[:3]\n"
     ]
    }
   ],
   "source": [
    "df.columns = ['CREAT_DE','CREAT_HM','LINKID','ROAD_INSTT_CODE','PASNG_SPED']\n",
    "\n",
    "work = [1900] # 시간대별 가능\n",
    "\n",
    "for i in work:\n",
    "    df0 = df[df['CREAT_HM'] == i]\n",
    "    df0['newone'] = df0['LINKID'].astype(str).str[:3]\n",
    "    df0_1 = df0[df0['newone'] == '243']\n",
    "    df0_2 = df0[df0['newone'] == '244']\n",
    "    df0_3 = df0[df0['newone'] == '245']\n",
    "\n",
    "    df0sum = pd.concat([df0_1,df0_2,df0_3])\n",
    "\n",
    "    df0sum = df0sum.reset_index(drop=True)\n",
    "    df0sum\n",
    "    \n",
    "    df0sum.to_csv('20220923T{}'.format(i)+'sum.csv')"
   ]
  },
  {
   "cell_type": "code",
   "execution_count": 10,
   "id": "41989f97",
   "metadata": {},
   "outputs": [],
   "source": [
    "df1 = pd.read_csv('C:/Users/User/20220919T1900sum.csv')\n",
    "df2 = pd.read_csv('C:/Users/User/20220920T1900sum.csv')\n",
    "df3 = pd.read_csv('C:/Users/User/20220921T1900sum.csv')\n",
    "df4 = pd.read_csv('C:/Users/User/20220922T1900sum.csv')\n",
    "df5 = pd.read_csv('C:/Users/User/20220923T1900sum.csv')"
   ]
  },
  {
   "cell_type": "code",
   "execution_count": 11,
   "id": "b22c1424",
   "metadata": {},
   "outputs": [
    {
     "data": {
      "text/html": [
       "<div>\n",
       "<style scoped>\n",
       "    .dataframe tbody tr th:only-of-type {\n",
       "        vertical-align: middle;\n",
       "    }\n",
       "\n",
       "    .dataframe tbody tr th {\n",
       "        vertical-align: top;\n",
       "    }\n",
       "\n",
       "    .dataframe thead th {\n",
       "        text-align: right;\n",
       "    }\n",
       "</style>\n",
       "<table border=\"1\" class=\"dataframe\">\n",
       "  <thead>\n",
       "    <tr style=\"text-align: right;\">\n",
       "      <th></th>\n",
       "      <th>Unnamed: 0</th>\n",
       "      <th>CREAT_DE</th>\n",
       "      <th>CREAT_HM</th>\n",
       "      <th>LINKID</th>\n",
       "      <th>ROAD_INSTT_CODE</th>\n",
       "      <th>PASNG_SPED</th>\n",
       "      <th>newone</th>\n",
       "    </tr>\n",
       "  </thead>\n",
       "  <tbody>\n",
       "    <tr>\n",
       "      <th>0</th>\n",
       "      <td>0</td>\n",
       "      <td>20220919</td>\n",
       "      <td>1900</td>\n",
       "      <td>2.430087e+09</td>\n",
       "      <td>46340006</td>\n",
       "      <td>22.0</td>\n",
       "      <td>243</td>\n",
       "    </tr>\n",
       "    <tr>\n",
       "      <th>1</th>\n",
       "      <td>1</td>\n",
       "      <td>20220919</td>\n",
       "      <td>1900</td>\n",
       "      <td>2.430287e+09</td>\n",
       "      <td>46340006</td>\n",
       "      <td>33.0</td>\n",
       "      <td>243</td>\n",
       "    </tr>\n",
       "    <tr>\n",
       "      <th>2</th>\n",
       "      <td>2</td>\n",
       "      <td>20220919</td>\n",
       "      <td>1900</td>\n",
       "      <td>2.430291e+09</td>\n",
       "      <td>46340006</td>\n",
       "      <td>41.0</td>\n",
       "      <td>243</td>\n",
       "    </tr>\n",
       "    <tr>\n",
       "      <th>3</th>\n",
       "      <td>3</td>\n",
       "      <td>20220919</td>\n",
       "      <td>1900</td>\n",
       "      <td>2.430291e+09</td>\n",
       "      <td>46340006</td>\n",
       "      <td>23.0</td>\n",
       "      <td>243</td>\n",
       "    </tr>\n",
       "    <tr>\n",
       "      <th>4</th>\n",
       "      <td>4</td>\n",
       "      <td>20220919</td>\n",
       "      <td>1900</td>\n",
       "      <td>2.430287e+09</td>\n",
       "      <td>46340006</td>\n",
       "      <td>20.0</td>\n",
       "      <td>243</td>\n",
       "    </tr>\n",
       "  </tbody>\n",
       "</table>\n",
       "</div>"
      ],
      "text/plain": [
       "   Unnamed: 0  CREAT_DE  CREAT_HM        LINKID  ROAD_INSTT_CODE  PASNG_SPED  \\\n",
       "0           0  20220919      1900  2.430087e+09         46340006        22.0   \n",
       "1           1  20220919      1900  2.430287e+09         46340006        33.0   \n",
       "2           2  20220919      1900  2.430291e+09         46340006        41.0   \n",
       "3           3  20220919      1900  2.430291e+09         46340006        23.0   \n",
       "4           4  20220919      1900  2.430287e+09         46340006        20.0   \n",
       "\n",
       "   newone  \n",
       "0     243  \n",
       "1     243  \n",
       "2     243  \n",
       "3     243  \n",
       "4     243  "
      ]
     },
     "execution_count": 11,
     "metadata": {},
     "output_type": "execute_result"
    }
   ],
   "source": [
    "df1.head(5)"
   ]
  },
  {
   "cell_type": "code",
   "execution_count": 12,
   "id": "2670c570",
   "metadata": {},
   "outputs": [
    {
     "data": {
      "text/plain": [
       "(33438, 7)"
      ]
     },
     "execution_count": 12,
     "metadata": {},
     "output_type": "execute_result"
    }
   ],
   "source": [
    "total_df = pd.concat([df1,df2,df3,df4,df5])\n",
    "total_df.shape"
   ]
  },
  {
   "cell_type": "markdown",
   "id": "0c9273d2",
   "metadata": {},
   "source": [
    "## 평일 5일 링크ID별 평균"
   ]
  },
  {
   "cell_type": "code",
   "execution_count": 13,
   "id": "decdc7cc",
   "metadata": {},
   "outputs": [
    {
     "data": {
      "text/plain": [
       "LINKID\n",
       "2.430000e+09    18.8\n",
       "2.430000e+09    25.3\n",
       "2.430000e+09     4.0\n",
       "2.430000e+09    18.9\n",
       "2.430000e+09    27.6\n",
       "                ... \n",
       "2.450133e+09    27.0\n",
       "2.450133e+09    26.6\n",
       "2.450133e+09     9.4\n",
       "2.450133e+09    59.4\n",
       "2.450134e+09    49.7\n",
       "Name: PASNG_SPED, Length: 6688, dtype: float64"
      ]
     },
     "execution_count": 13,
     "metadata": {},
     "output_type": "execute_result"
    }
   ],
   "source": [
    "total_df.groupby(\"LINKID\")['PASNG_SPED'].mean()"
   ]
  },
  {
   "cell_type": "code",
   "execution_count": 15,
   "id": "4a0c3824",
   "metadata": {},
   "outputs": [],
   "source": [
    "total_df2 = total_df.groupby('LINKID').agg({'PASNG_SPED':\"mean\"})\n",
    "total_df2\n",
    "\n",
    "total_df2.to_excel('평일 오후7시 속도 평균.xlsx')"
   ]
  }
 ],
 "metadata": {
  "kernelspec": {
   "display_name": "Python 3",
   "language": "python",
   "name": "python3"
  },
  "language_info": {
   "codemirror_mode": {
    "name": "ipython",
    "version": 3
   },
   "file_extension": ".py",
   "mimetype": "text/x-python",
   "name": "python",
   "nbconvert_exporter": "python",
   "pygments_lexer": "ipython3",
   "version": "3.8.8"
  },
  "toc": {
   "base_numbering": 1,
   "nav_menu": {},
   "number_sections": true,
   "sideBar": true,
   "skip_h1_title": true,
   "title_cell": "Table of Contents",
   "title_sidebar": "Contents",
   "toc_cell": true,
   "toc_position": {},
   "toc_section_display": true,
   "toc_window_display": false
  }
 },
 "nbformat": 4,
 "nbformat_minor": 5
}
